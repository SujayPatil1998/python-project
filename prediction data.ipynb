{
 "cells": [
  {
   "cell_type": "code",
   "execution_count": 1,
   "id": "fa59b9e7",
   "metadata": {},
   "outputs": [],
   "source": [
    "import numpy as np\n",
    "import pandas as pd\n",
    "import matplotlib.pyplot as plt\n",
    "import seaborn as sns\n",
    "sns.set()\n"
   ]
  },
  {
   "cell_type": "code",
   "execution_count": 2,
   "id": "9ac70e3d",
   "metadata": {},
   "outputs": [],
   "source": [
    "raw_data = pd.read_csv(\"Real estate.csv\")\n",
    "data =raw_data.copy()"
   ]
  },
  {
   "cell_type": "code",
   "execution_count": 3,
   "id": "b096eeb8",
   "metadata": {},
   "outputs": [
    {
     "data": {
      "text/html": [
       "<div>\n",
       "<style scoped>\n",
       "    .dataframe tbody tr th:only-of-type {\n",
       "        vertical-align: middle;\n",
       "    }\n",
       "\n",
       "    .dataframe tbody tr th {\n",
       "        vertical-align: top;\n",
       "    }\n",
       "\n",
       "    .dataframe thead th {\n",
       "        text-align: right;\n",
       "    }\n",
       "</style>\n",
       "<table border=\"1\" class=\"dataframe\">\n",
       "  <thead>\n",
       "    <tr style=\"text-align: right;\">\n",
       "      <th></th>\n",
       "      <th>No</th>\n",
       "      <th>X1 transaction date</th>\n",
       "      <th>X2 house age</th>\n",
       "      <th>X3 distance to the nearest MRT station</th>\n",
       "      <th>X4 number of convenience stores</th>\n",
       "      <th>X5 latitude</th>\n",
       "      <th>X6 longitude</th>\n",
       "      <th>Y house price of unit area</th>\n",
       "    </tr>\n",
       "  </thead>\n",
       "  <tbody>\n",
       "    <tr>\n",
       "      <th>0</th>\n",
       "      <td>1</td>\n",
       "      <td>2012.917</td>\n",
       "      <td>32.0</td>\n",
       "      <td>84.87882</td>\n",
       "      <td>10</td>\n",
       "      <td>24.98298</td>\n",
       "      <td>121.54024</td>\n",
       "      <td>37.9</td>\n",
       "    </tr>\n",
       "    <tr>\n",
       "      <th>1</th>\n",
       "      <td>2</td>\n",
       "      <td>2012.917</td>\n",
       "      <td>19.5</td>\n",
       "      <td>306.59470</td>\n",
       "      <td>9</td>\n",
       "      <td>24.98034</td>\n",
       "      <td>121.53951</td>\n",
       "      <td>42.2</td>\n",
       "    </tr>\n",
       "    <tr>\n",
       "      <th>2</th>\n",
       "      <td>3</td>\n",
       "      <td>2013.583</td>\n",
       "      <td>13.3</td>\n",
       "      <td>561.98450</td>\n",
       "      <td>5</td>\n",
       "      <td>24.98746</td>\n",
       "      <td>121.54391</td>\n",
       "      <td>47.3</td>\n",
       "    </tr>\n",
       "    <tr>\n",
       "      <th>3</th>\n",
       "      <td>4</td>\n",
       "      <td>2013.500</td>\n",
       "      <td>13.3</td>\n",
       "      <td>561.98450</td>\n",
       "      <td>5</td>\n",
       "      <td>24.98746</td>\n",
       "      <td>121.54391</td>\n",
       "      <td>54.8</td>\n",
       "    </tr>\n",
       "    <tr>\n",
       "      <th>4</th>\n",
       "      <td>5</td>\n",
       "      <td>2012.833</td>\n",
       "      <td>5.0</td>\n",
       "      <td>390.56840</td>\n",
       "      <td>5</td>\n",
       "      <td>24.97937</td>\n",
       "      <td>121.54245</td>\n",
       "      <td>43.1</td>\n",
       "    </tr>\n",
       "    <tr>\n",
       "      <th>...</th>\n",
       "      <td>...</td>\n",
       "      <td>...</td>\n",
       "      <td>...</td>\n",
       "      <td>...</td>\n",
       "      <td>...</td>\n",
       "      <td>...</td>\n",
       "      <td>...</td>\n",
       "      <td>...</td>\n",
       "    </tr>\n",
       "    <tr>\n",
       "      <th>409</th>\n",
       "      <td>410</td>\n",
       "      <td>2013.000</td>\n",
       "      <td>13.7</td>\n",
       "      <td>4082.01500</td>\n",
       "      <td>0</td>\n",
       "      <td>24.94155</td>\n",
       "      <td>121.50381</td>\n",
       "      <td>15.4</td>\n",
       "    </tr>\n",
       "    <tr>\n",
       "      <th>410</th>\n",
       "      <td>411</td>\n",
       "      <td>2012.667</td>\n",
       "      <td>5.6</td>\n",
       "      <td>90.45606</td>\n",
       "      <td>9</td>\n",
       "      <td>24.97433</td>\n",
       "      <td>121.54310</td>\n",
       "      <td>50.0</td>\n",
       "    </tr>\n",
       "    <tr>\n",
       "      <th>411</th>\n",
       "      <td>412</td>\n",
       "      <td>2013.250</td>\n",
       "      <td>18.8</td>\n",
       "      <td>390.96960</td>\n",
       "      <td>7</td>\n",
       "      <td>24.97923</td>\n",
       "      <td>121.53986</td>\n",
       "      <td>40.6</td>\n",
       "    </tr>\n",
       "    <tr>\n",
       "      <th>412</th>\n",
       "      <td>413</td>\n",
       "      <td>2013.000</td>\n",
       "      <td>8.1</td>\n",
       "      <td>104.81010</td>\n",
       "      <td>5</td>\n",
       "      <td>24.96674</td>\n",
       "      <td>121.54067</td>\n",
       "      <td>52.5</td>\n",
       "    </tr>\n",
       "    <tr>\n",
       "      <th>413</th>\n",
       "      <td>414</td>\n",
       "      <td>2013.500</td>\n",
       "      <td>6.5</td>\n",
       "      <td>90.45606</td>\n",
       "      <td>9</td>\n",
       "      <td>24.97433</td>\n",
       "      <td>121.54310</td>\n",
       "      <td>63.9</td>\n",
       "    </tr>\n",
       "  </tbody>\n",
       "</table>\n",
       "<p>414 rows × 8 columns</p>\n",
       "</div>"
      ],
      "text/plain": [
       "      No  X1 transaction date  X2 house age  \\\n",
       "0      1             2012.917          32.0   \n",
       "1      2             2012.917          19.5   \n",
       "2      3             2013.583          13.3   \n",
       "3      4             2013.500          13.3   \n",
       "4      5             2012.833           5.0   \n",
       "..   ...                  ...           ...   \n",
       "409  410             2013.000          13.7   \n",
       "410  411             2012.667           5.6   \n",
       "411  412             2013.250          18.8   \n",
       "412  413             2013.000           8.1   \n",
       "413  414             2013.500           6.5   \n",
       "\n",
       "     X3 distance to the nearest MRT station  X4 number of convenience stores  \\\n",
       "0                                  84.87882                               10   \n",
       "1                                 306.59470                                9   \n",
       "2                                 561.98450                                5   \n",
       "3                                 561.98450                                5   \n",
       "4                                 390.56840                                5   \n",
       "..                                      ...                              ...   \n",
       "409                              4082.01500                                0   \n",
       "410                                90.45606                                9   \n",
       "411                               390.96960                                7   \n",
       "412                               104.81010                                5   \n",
       "413                                90.45606                                9   \n",
       "\n",
       "     X5 latitude  X6 longitude  Y house price of unit area  \n",
       "0       24.98298     121.54024                        37.9  \n",
       "1       24.98034     121.53951                        42.2  \n",
       "2       24.98746     121.54391                        47.3  \n",
       "3       24.98746     121.54391                        54.8  \n",
       "4       24.97937     121.54245                        43.1  \n",
       "..           ...           ...                         ...  \n",
       "409     24.94155     121.50381                        15.4  \n",
       "410     24.97433     121.54310                        50.0  \n",
       "411     24.97923     121.53986                        40.6  \n",
       "412     24.96674     121.54067                        52.5  \n",
       "413     24.97433     121.54310                        63.9  \n",
       "\n",
       "[414 rows x 8 columns]"
      ]
     },
     "execution_count": 3,
     "metadata": {},
     "output_type": "execute_result"
    }
   ],
   "source": [
    "data"
   ]
  },
  {
   "cell_type": "code",
   "execution_count": 4,
   "id": "a72447fe",
   "metadata": {},
   "outputs": [
    {
     "data": {
      "text/plain": [
       "No                                        0\n",
       "X1 transaction date                       0\n",
       "X2 house age                              0\n",
       "X3 distance to the nearest MRT station    0\n",
       "X4 number of convenience stores           0\n",
       "X5 latitude                               0\n",
       "X6 longitude                              0\n",
       "Y house price of unit area                0\n",
       "dtype: int64"
      ]
     },
     "execution_count": 4,
     "metadata": {},
     "output_type": "execute_result"
    }
   ],
   "source": [
    "data.isnull().sum()"
   ]
  },
  {
   "cell_type": "code",
   "execution_count": 5,
   "id": "0d48948a",
   "metadata": {},
   "outputs": [
    {
     "data": {
      "text/html": [
       "<div>\n",
       "<style scoped>\n",
       "    .dataframe tbody tr th:only-of-type {\n",
       "        vertical-align: middle;\n",
       "    }\n",
       "\n",
       "    .dataframe tbody tr th {\n",
       "        vertical-align: top;\n",
       "    }\n",
       "\n",
       "    .dataframe thead th {\n",
       "        text-align: right;\n",
       "    }\n",
       "</style>\n",
       "<table border=\"1\" class=\"dataframe\">\n",
       "  <thead>\n",
       "    <tr style=\"text-align: right;\">\n",
       "      <th></th>\n",
       "      <th>No</th>\n",
       "      <th>X1 transaction date</th>\n",
       "      <th>X2 house age</th>\n",
       "      <th>X3 distance to the nearest MRT station</th>\n",
       "      <th>X4 number of convenience stores</th>\n",
       "      <th>X5 latitude</th>\n",
       "      <th>X6 longitude</th>\n",
       "      <th>Y house price of unit area</th>\n",
       "    </tr>\n",
       "  </thead>\n",
       "  <tbody>\n",
       "    <tr>\n",
       "      <th>count</th>\n",
       "      <td>414.000000</td>\n",
       "      <td>414.000000</td>\n",
       "      <td>414.000000</td>\n",
       "      <td>414.000000</td>\n",
       "      <td>414.000000</td>\n",
       "      <td>414.000000</td>\n",
       "      <td>414.000000</td>\n",
       "      <td>414.000000</td>\n",
       "    </tr>\n",
       "    <tr>\n",
       "      <th>mean</th>\n",
       "      <td>207.500000</td>\n",
       "      <td>2013.148971</td>\n",
       "      <td>17.712560</td>\n",
       "      <td>1083.885689</td>\n",
       "      <td>4.094203</td>\n",
       "      <td>24.969030</td>\n",
       "      <td>121.533361</td>\n",
       "      <td>37.980193</td>\n",
       "    </tr>\n",
       "    <tr>\n",
       "      <th>std</th>\n",
       "      <td>119.655756</td>\n",
       "      <td>0.281967</td>\n",
       "      <td>11.392485</td>\n",
       "      <td>1262.109595</td>\n",
       "      <td>2.945562</td>\n",
       "      <td>0.012410</td>\n",
       "      <td>0.015347</td>\n",
       "      <td>13.606488</td>\n",
       "    </tr>\n",
       "    <tr>\n",
       "      <th>min</th>\n",
       "      <td>1.000000</td>\n",
       "      <td>2012.667000</td>\n",
       "      <td>0.000000</td>\n",
       "      <td>23.382840</td>\n",
       "      <td>0.000000</td>\n",
       "      <td>24.932070</td>\n",
       "      <td>121.473530</td>\n",
       "      <td>7.600000</td>\n",
       "    </tr>\n",
       "    <tr>\n",
       "      <th>25%</th>\n",
       "      <td>104.250000</td>\n",
       "      <td>2012.917000</td>\n",
       "      <td>9.025000</td>\n",
       "      <td>289.324800</td>\n",
       "      <td>1.000000</td>\n",
       "      <td>24.963000</td>\n",
       "      <td>121.528085</td>\n",
       "      <td>27.700000</td>\n",
       "    </tr>\n",
       "    <tr>\n",
       "      <th>50%</th>\n",
       "      <td>207.500000</td>\n",
       "      <td>2013.167000</td>\n",
       "      <td>16.100000</td>\n",
       "      <td>492.231300</td>\n",
       "      <td>4.000000</td>\n",
       "      <td>24.971100</td>\n",
       "      <td>121.538630</td>\n",
       "      <td>38.450000</td>\n",
       "    </tr>\n",
       "    <tr>\n",
       "      <th>75%</th>\n",
       "      <td>310.750000</td>\n",
       "      <td>2013.417000</td>\n",
       "      <td>28.150000</td>\n",
       "      <td>1454.279000</td>\n",
       "      <td>6.000000</td>\n",
       "      <td>24.977455</td>\n",
       "      <td>121.543305</td>\n",
       "      <td>46.600000</td>\n",
       "    </tr>\n",
       "    <tr>\n",
       "      <th>max</th>\n",
       "      <td>414.000000</td>\n",
       "      <td>2013.583000</td>\n",
       "      <td>43.800000</td>\n",
       "      <td>6488.021000</td>\n",
       "      <td>10.000000</td>\n",
       "      <td>25.014590</td>\n",
       "      <td>121.566270</td>\n",
       "      <td>117.500000</td>\n",
       "    </tr>\n",
       "  </tbody>\n",
       "</table>\n",
       "</div>"
      ],
      "text/plain": [
       "               No  X1 transaction date  X2 house age  \\\n",
       "count  414.000000           414.000000    414.000000   \n",
       "mean   207.500000          2013.148971     17.712560   \n",
       "std    119.655756             0.281967     11.392485   \n",
       "min      1.000000          2012.667000      0.000000   \n",
       "25%    104.250000          2012.917000      9.025000   \n",
       "50%    207.500000          2013.167000     16.100000   \n",
       "75%    310.750000          2013.417000     28.150000   \n",
       "max    414.000000          2013.583000     43.800000   \n",
       "\n",
       "       X3 distance to the nearest MRT station  \\\n",
       "count                              414.000000   \n",
       "mean                              1083.885689   \n",
       "std                               1262.109595   \n",
       "min                                 23.382840   \n",
       "25%                                289.324800   \n",
       "50%                                492.231300   \n",
       "75%                               1454.279000   \n",
       "max                               6488.021000   \n",
       "\n",
       "       X4 number of convenience stores  X5 latitude  X6 longitude  \\\n",
       "count                       414.000000   414.000000    414.000000   \n",
       "mean                          4.094203    24.969030    121.533361   \n",
       "std                           2.945562     0.012410      0.015347   \n",
       "min                           0.000000    24.932070    121.473530   \n",
       "25%                           1.000000    24.963000    121.528085   \n",
       "50%                           4.000000    24.971100    121.538630   \n",
       "75%                           6.000000    24.977455    121.543305   \n",
       "max                          10.000000    25.014590    121.566270   \n",
       "\n",
       "       Y house price of unit area  \n",
       "count                  414.000000  \n",
       "mean                    37.980193  \n",
       "std                     13.606488  \n",
       "min                      7.600000  \n",
       "25%                     27.700000  \n",
       "50%                     38.450000  \n",
       "75%                     46.600000  \n",
       "max                    117.500000  "
      ]
     },
     "execution_count": 5,
     "metadata": {},
     "output_type": "execute_result"
    }
   ],
   "source": [
    "data.describe()"
   ]
  },
  {
   "cell_type": "code",
   "execution_count": 6,
   "id": "05d0b344",
   "metadata": {},
   "outputs": [
    {
     "data": {
      "text/plain": [
       "array(['No', 'X1 transaction date', 'X2 house age',\n",
       "       'X3 distance to the nearest MRT station',\n",
       "       'X4 number of convenience stores', 'X5 latitude', 'X6 longitude',\n",
       "       'Y house price of unit area'], dtype=object)"
      ]
     },
     "execution_count": 6,
     "metadata": {},
     "output_type": "execute_result"
    }
   ],
   "source": [
    "data.columns.values"
   ]
  },
  {
   "cell_type": "code",
   "execution_count": 7,
   "id": "74bb343b",
   "metadata": {},
   "outputs": [
    {
     "data": {
      "text/html": [
       "<div>\n",
       "<style scoped>\n",
       "    .dataframe tbody tr th:only-of-type {\n",
       "        vertical-align: middle;\n",
       "    }\n",
       "\n",
       "    .dataframe tbody tr th {\n",
       "        vertical-align: top;\n",
       "    }\n",
       "\n",
       "    .dataframe thead th {\n",
       "        text-align: right;\n",
       "    }\n",
       "</style>\n",
       "<table border=\"1\" class=\"dataframe\">\n",
       "  <thead>\n",
       "    <tr style=\"text-align: right;\">\n",
       "      <th></th>\n",
       "      <th>X1 transaction date</th>\n",
       "      <th>X2 house age</th>\n",
       "      <th>X3 distance to the nearest MRT station</th>\n",
       "      <th>X4 number of convenience stores</th>\n",
       "      <th>X5 latitude</th>\n",
       "      <th>X6 longitude</th>\n",
       "      <th>Y house price of unit area</th>\n",
       "    </tr>\n",
       "  </thead>\n",
       "  <tbody>\n",
       "    <tr>\n",
       "      <th>0</th>\n",
       "      <td>2012.917</td>\n",
       "      <td>32.0</td>\n",
       "      <td>84.87882</td>\n",
       "      <td>10</td>\n",
       "      <td>24.98298</td>\n",
       "      <td>121.54024</td>\n",
       "      <td>37.9</td>\n",
       "    </tr>\n",
       "    <tr>\n",
       "      <th>1</th>\n",
       "      <td>2012.917</td>\n",
       "      <td>19.5</td>\n",
       "      <td>306.59470</td>\n",
       "      <td>9</td>\n",
       "      <td>24.98034</td>\n",
       "      <td>121.53951</td>\n",
       "      <td>42.2</td>\n",
       "    </tr>\n",
       "    <tr>\n",
       "      <th>2</th>\n",
       "      <td>2013.583</td>\n",
       "      <td>13.3</td>\n",
       "      <td>561.98450</td>\n",
       "      <td>5</td>\n",
       "      <td>24.98746</td>\n",
       "      <td>121.54391</td>\n",
       "      <td>47.3</td>\n",
       "    </tr>\n",
       "    <tr>\n",
       "      <th>3</th>\n",
       "      <td>2013.500</td>\n",
       "      <td>13.3</td>\n",
       "      <td>561.98450</td>\n",
       "      <td>5</td>\n",
       "      <td>24.98746</td>\n",
       "      <td>121.54391</td>\n",
       "      <td>54.8</td>\n",
       "    </tr>\n",
       "    <tr>\n",
       "      <th>4</th>\n",
       "      <td>2012.833</td>\n",
       "      <td>5.0</td>\n",
       "      <td>390.56840</td>\n",
       "      <td>5</td>\n",
       "      <td>24.97937</td>\n",
       "      <td>121.54245</td>\n",
       "      <td>43.1</td>\n",
       "    </tr>\n",
       "    <tr>\n",
       "      <th>...</th>\n",
       "      <td>...</td>\n",
       "      <td>...</td>\n",
       "      <td>...</td>\n",
       "      <td>...</td>\n",
       "      <td>...</td>\n",
       "      <td>...</td>\n",
       "      <td>...</td>\n",
       "    </tr>\n",
       "    <tr>\n",
       "      <th>409</th>\n",
       "      <td>2013.000</td>\n",
       "      <td>13.7</td>\n",
       "      <td>4082.01500</td>\n",
       "      <td>0</td>\n",
       "      <td>24.94155</td>\n",
       "      <td>121.50381</td>\n",
       "      <td>15.4</td>\n",
       "    </tr>\n",
       "    <tr>\n",
       "      <th>410</th>\n",
       "      <td>2012.667</td>\n",
       "      <td>5.6</td>\n",
       "      <td>90.45606</td>\n",
       "      <td>9</td>\n",
       "      <td>24.97433</td>\n",
       "      <td>121.54310</td>\n",
       "      <td>50.0</td>\n",
       "    </tr>\n",
       "    <tr>\n",
       "      <th>411</th>\n",
       "      <td>2013.250</td>\n",
       "      <td>18.8</td>\n",
       "      <td>390.96960</td>\n",
       "      <td>7</td>\n",
       "      <td>24.97923</td>\n",
       "      <td>121.53986</td>\n",
       "      <td>40.6</td>\n",
       "    </tr>\n",
       "    <tr>\n",
       "      <th>412</th>\n",
       "      <td>2013.000</td>\n",
       "      <td>8.1</td>\n",
       "      <td>104.81010</td>\n",
       "      <td>5</td>\n",
       "      <td>24.96674</td>\n",
       "      <td>121.54067</td>\n",
       "      <td>52.5</td>\n",
       "    </tr>\n",
       "    <tr>\n",
       "      <th>413</th>\n",
       "      <td>2013.500</td>\n",
       "      <td>6.5</td>\n",
       "      <td>90.45606</td>\n",
       "      <td>9</td>\n",
       "      <td>24.97433</td>\n",
       "      <td>121.54310</td>\n",
       "      <td>63.9</td>\n",
       "    </tr>\n",
       "  </tbody>\n",
       "</table>\n",
       "<p>414 rows × 7 columns</p>\n",
       "</div>"
      ],
      "text/plain": [
       "     X1 transaction date  X2 house age  \\\n",
       "0               2012.917          32.0   \n",
       "1               2012.917          19.5   \n",
       "2               2013.583          13.3   \n",
       "3               2013.500          13.3   \n",
       "4               2012.833           5.0   \n",
       "..                   ...           ...   \n",
       "409             2013.000          13.7   \n",
       "410             2012.667           5.6   \n",
       "411             2013.250          18.8   \n",
       "412             2013.000           8.1   \n",
       "413             2013.500           6.5   \n",
       "\n",
       "     X3 distance to the nearest MRT station  X4 number of convenience stores  \\\n",
       "0                                  84.87882                               10   \n",
       "1                                 306.59470                                9   \n",
       "2                                 561.98450                                5   \n",
       "3                                 561.98450                                5   \n",
       "4                                 390.56840                                5   \n",
       "..                                      ...                              ...   \n",
       "409                              4082.01500                                0   \n",
       "410                                90.45606                                9   \n",
       "411                               390.96960                                7   \n",
       "412                               104.81010                                5   \n",
       "413                                90.45606                                9   \n",
       "\n",
       "     X5 latitude  X6 longitude  Y house price of unit area  \n",
       "0       24.98298     121.54024                        37.9  \n",
       "1       24.98034     121.53951                        42.2  \n",
       "2       24.98746     121.54391                        47.3  \n",
       "3       24.98746     121.54391                        54.8  \n",
       "4       24.97937     121.54245                        43.1  \n",
       "..           ...           ...                         ...  \n",
       "409     24.94155     121.50381                        15.4  \n",
       "410     24.97433     121.54310                        50.0  \n",
       "411     24.97923     121.53986                        40.6  \n",
       "412     24.96674     121.54067                        52.5  \n",
       "413     24.97433     121.54310                        63.9  \n",
       "\n",
       "[414 rows x 7 columns]"
      ]
     },
     "execution_count": 7,
     "metadata": {},
     "output_type": "execute_result"
    }
   ],
   "source": [
    "data.drop('No',axis=1,inplace=True)\n",
    "data"
   ]
  },
  {
   "cell_type": "code",
   "execution_count": 8,
   "id": "8d051d80",
   "metadata": {},
   "outputs": [],
   "source": [
    "data.rename(columns ={'X1 transaction date':'transaction_date', 'X2 house age':'house_age',\n",
    "       'X3 distance to the nearest MRT station':'distance_to_the_nearest_MRT_station',\n",
    "       'X4 number of convenience stores':'number_of_convenience_stores', 'X5 latitude':'latitude', 'X6 longitude':'longitude',\n",
    "       'Y house price of unit area':'house_price_unit_area'},inplace =True)\n"
   ]
  },
  {
   "cell_type": "code",
   "execution_count": 9,
   "id": "173bf7eb",
   "metadata": {},
   "outputs": [],
   "source": [
    "features = ['transaction_date', 'house_age',\n",
    "       'distance_to_the_nearest_MRT_station',\n",
    "       'number_of_convenience_stores', 'latitude', 'longitude']\n",
    "x = data[features]\n"
   ]
  },
  {
   "cell_type": "code",
   "execution_count": 10,
   "id": "5871e70e",
   "metadata": {},
   "outputs": [],
   "source": [
    "y = data['house_price_unit_area']"
   ]
  },
  {
   "cell_type": "code",
   "execution_count": 11,
   "id": "0dc82b9c",
   "metadata": {},
   "outputs": [
    {
     "data": {
      "image/png": "[encoded data removed]",
      "text/plain": [
       "<Figure size 432x288 with 1 Axes>"
      ]
     },
     "metadata": {},
     "output_type": "display_data"
    }
   ],
   "source": [
    "plt.scatter(data['transaction_date'],y)\n",
    "plt.xlabel(\"transaction_date\")\n",
    "plt.ylabel(\"house_price_unit_area\")\n",
    "plt.show()"
   ]
  },
  {
   "cell_type": "code",
   "execution_count": 12,
   "id": "ce088161",
   "metadata": {},
   "outputs": [
    {
     "data": {
      "image/png": "[encoded data removed]",
      "text/plain": [
       "<Figure size 432x288 with 1 Axes>"
      ]
     },
     "metadata": {},
     "output_type": "display_data"
    }
   ],
   "source": [
    "plt.bar(data['number_of_convenience_stores'],y)\n",
    "plt.xlabel(\"number_of_convenience_stores\")\n",
    "plt.ylabel(\"house_price_unit_area\")\n",
    "plt.show()"
   ]
  },
  {
   "cell_type": "code",
   "execution_count": 13,
   "id": "fbdc8cdd",
   "metadata": {},
   "outputs": [
    {
     "name": "stderr",
     "output_type": "stream",
     "text": [
      "D:\\anaconda\\lib\\site-packages\\seaborn\\distributions.py:2619: FutureWarning: `distplot` is a deprecated function and will be removed in a future version. Please adapt your code to use either `displot` (a figure-level function with similar flexibility) or `histplot` (an axes-level function for histograms).\n",
      "  warnings.warn(msg, FutureWarning)\n"
     ]
    },
    {
     "data": {
      "text/plain": [
       "<AxesSubplot:xlabel='house_price_unit_area', ylabel='Density'>"
      ]
     },
     "execution_count": 13,
     "metadata": {},
     "output_type": "execute_result"
    },
    {
     "data": {
      "image/png": "[encoded data removed]",
      "text/plain": [
       "<Figure size 432x288 with 1 Axes>"
      ]
     },
     "metadata": {},
     "output_type": "display_data"
    }
   ],
   "source": [
    "sns.distplot(y)"
   ]
  },
  {
   "cell_type": "code",
   "execution_count": 14,
   "id": "6024820d",
   "metadata": {},
   "outputs": [
    {
     "name": "stderr",
     "output_type": "stream",
     "text": [
      "D:\\anaconda\\lib\\site-packages\\seaborn\\distributions.py:2619: FutureWarning: `distplot` is a deprecated function and will be removed in a future version. Please adapt your code to use either `displot` (a figure-level function with similar flexibility) or `histplot` (an axes-level function for histograms).\n",
      "  warnings.warn(msg, FutureWarning)\n"
     ]
    },
    {
     "data": {
      "text/plain": [
       "<AxesSubplot:xlabel='distance_to_the_nearest_MRT_station', ylabel='Density'>"
      ]
     },
     "execution_count": 14,
     "metadata": {},
     "output_type": "execute_result"
    },
    {
     "data": {
      "image/png": "[encoded data removed]",
      "text/plain": [
       "<Figure size 432x288 with 1 Axes>"
      ]
     },
     "metadata": {},
     "output_type": "display_data"
    }
   ],
   "source": [
    "sns.distplot(data['distance_to_the_nearest_MRT_station'])"
   ]
  },
  {
   "cell_type": "code",
   "execution_count": 15,
   "id": "6de2801c",
   "metadata": {},
   "outputs": [],
   "source": [
    "from sklearn.linear_model import LinearRegression\n",
    "from sklearn.preprocessing import StandardScaler\n",
    "from sklearn.model_selection import train_test_split"
   ]
  },
  {
   "cell_type": "code",
   "execution_count": 16,
   "id": "f5afb5bc",
   "metadata": {},
   "outputs": [
    {
     "data": {
      "text/plain": [
       "[(331, 6), (83, 6), (331,), (83,)]"
      ]
     },
     "execution_count": 16,
     "metadata": {},
     "output_type": "execute_result"
    }
   ],
   "source": [
    "x_train,x_test,y_train,y_test = train_test_split(x,y,test_size=0.2)\n",
    "shapes = [x_train.shape,x_test.shape,y_train.shape,y_test.shape]\n",
    "shapes"
   ]
  },
  {
   "cell_type": "code",
   "execution_count": 17,
   "id": "d4985689",
   "metadata": {},
   "outputs": [
    {
     "data": {
      "text/plain": [
       "array([[ 0.97619627, -0.05574782, -0.56745274,  1.34961869, -0.09938771,\n",
       "         0.73495344],\n",
       "       [ 1.27328444,  0.77308917, -0.59358648,  0.66550876,  0.87524067,\n",
       "         0.5294848 ],\n",
       "       [ 1.27328444, -0.78861422, -0.77848947,  0.32345379, -0.16060404,\n",
       "         0.48125582],\n",
       "       ...,\n",
       "       [ 1.27328444, -0.09064622,  0.97118668, -0.36065614, -0.79612618,\n",
       "        -1.30784092],\n",
       "       [ 1.27328444, -0.04702322,  2.40894992, -1.38682104, -2.18960311,\n",
       "        -1.95397704],\n",
       "       [ 0.37844056,  0.36303298,  0.06555573, -1.38682104, -0.57059234,\n",
       "         1.10492913]])"
      ]
     },
     "execution_count": 17,
     "metadata": {},
     "output_type": "execute_result"
    }
   ],
   "source": [
    "scaler = StandardScaler()\n",
    "scaler.fit(x_train)\n",
    "x_scaled = scaler.transform(x_train)\n",
    "x_scaled"
   ]
  },
  {
   "cell_type": "code",
   "execution_count": 18,
   "id": "da94c8a8",
   "metadata": {},
   "outputs": [
    {
     "data": {
      "text/plain": [
       "array([[ 1.43370372e+00, -1.07181949e+00, -7.81787426e-01,\n",
       "         1.57738871e+00,  3.36367621e-01,  6.12009739e-01],\n",
       "       [-1.15552302e+00, -5.36128529e-01, -4.21835432e-01,\n",
       "         2.48218528e-01,  1.40864888e+00,  6.62404633e-01],\n",
       "       [-2.45404623e-03,  1.28885255e+00, -4.73994788e-01,\n",
       "         9.12803621e-01, -4.33816429e-02,  7.43907485e-01],\n",
       "       [-1.44206412e+00,  1.01646731e+00, -2.63497482e-01,\n",
       "         9.12803621e-01,  1.02889961e+00,  5.08221595e-02],\n",
       "       [-8.65529628e-01,  1.79730499e+00, -4.29123658e-01,\n",
       "        -7.48659110e-01,  4.71117360e-01,  3.40238616e-02],\n",
       "       [ 2.84087047e-01,  1.18897796e+00, -5.34079405e-01,\n",
       "        -8.40740177e-02,  9.61933076e-01,  7.07822253e-01],\n",
       "       [-5.78988535e-01,  5.40394804e-02, -8.04165584e-02,\n",
       "        -1.41324420e+00, -5.42364010e-01,  1.01081377e+00],\n",
       "       [ 8.60621536e-01, -1.08997851e+00, -7.81787426e-01,\n",
       "         1.57738871e+00,  3.36367621e-01,  6.12009739e-01],\n",
       "       [-1.15552302e+00, -4.37566643e-04,  1.19115339e+00,\n",
       "        -4.16366564e-01, -7.17130338e-01, -1.55497068e+00],\n",
       "       [-2.45404623e-03, -5.81526069e-01,  1.87454016e-01,\n",
       "        -1.08095166e+00, -1.48397885e+00,  9.42998423e-01],\n",
       "       [-1.15552302e+00, -1.67106701e+00, -7.09287207e-01,\n",
       "        -1.41324420e+00,  7.25847991e-02, -9.72517252e-02],\n",
       "       [-2.45404623e-03, -4.90730990e-01, -2.91399217e-01,\n",
       "        -1.41324420e+00,  5.28283916e-01, -5.02899510e-01],\n",
       "       [-5.78988535e-01, -1.36630184e-01, -1.12352260e-01,\n",
       "        -8.40740177e-02,  1.51154868e+00,  5.08221595e-02],\n",
       "       [ 8.60621536e-01, -1.26248916e+00,  8.86503513e-01,\n",
       "        -4.16366564e-01, -5.77480608e-01, -1.35339111e+00],\n",
       "       [-5.78988535e-01,  7.21984961e-02, -4.98846696e-01,\n",
       "         2.48218528e-01, -1.30349587e+00,  4.12918802e-01],\n",
       "       [ 8.60621536e-01,  8.89354202e-01, -5.98860901e-01,\n",
       "         1.24509617e+00,  3.15950994e-01,  4.25984145e-01],\n",
       "       [-1.72860521e+00, -1.15353506e+00, -7.81787426e-01,\n",
       "         1.57738871e+00,  3.36367621e-01,  6.12009739e-01],\n",
       "       [-2.92447442e-01,  1.65203286e+00, -4.77687757e-01,\n",
       "         1.24509617e+00, -4.99838389e-03,  7.26487028e-01],\n",
       "       [ 5.70628140e-01, -7.30736294e-02,  5.27556454e-01,\n",
       "        -7.48659110e-01,  1.34821566e+00, -7.68561480e-01],\n",
       "       [ 5.70628140e-01,  7.21984961e-02, -5.57923126e-01,\n",
       "         1.24509617e+00,  1.46084657e-01,  7.15910322e-01],\n",
       "       [-8.65529628e-01,  1.99311606e-01,  1.03442074e+00,\n",
       "        -8.40740177e-02, -7.45713616e-01, -1.41871782e+00],\n",
       "       [ 5.70628140e-01, -8.53911304e-01,  2.19421780e-01,\n",
       "        -1.41324420e+00,  1.26409916e+00, -3.52336989e-01],\n",
       "       [ 8.60621536e-01,  1.53399926e+00, -3.82021799e-01,\n",
       "         9.12803621e-01,  7.28366862e-01,  2.11339228e-01],\n",
       "       [-8.65529628e-01, -1.05366048e+00, -5.61095245e-01,\n",
       "         1.90968126e+00,  1.07953285e+00,  2.71066509e-01],\n",
       "       [-1.44206412e+00, -1.67106701e+00, -6.91759480e-01,\n",
       "         5.80511075e-01, -1.14587951e+00,  3.22083562e-01],\n",
       "       [ 8.60621536e-01,  1.60663532e+00, -4.54296182e-01,\n",
       "         2.48218528e-01, -5.84830594e-01,  2.68577872e-01],\n",
       "       [-1.15552302e+00,  1.17081894e+00, -3.92158627e-01,\n",
       "         2.48218528e-01, -1.22598156e-01,  8.24166020e-01],\n",
       "       [ 8.60621536e-01, -9.44706382e-01, -7.49656422e-01,\n",
       "         1.57738871e+00,  1.04278292e+00,  4.07319369e-01],\n",
       "       [ 1.14716263e+00, -2.76760902e-02, -2.11343928e-01,\n",
       "        -1.41324420e+00, -5.61147306e-01,  8.96336484e-01],\n",
       "       [-8.65529628e-01, -5.17969514e-01, -7.20967345e-01,\n",
       "        -1.08095166e+00,  2.85734386e-01, -2.12973333e-01],\n",
       "       [ 1.14716263e+00,  4.17219794e-01,  2.16291477e+00,\n",
       "        -1.41324420e+00, -1.82779485e+00, -1.91831164e+00],\n",
       "       [ 8.60621536e-01,  1.17989845e+00, -3.98540271e-01,\n",
       "        -7.48659110e-01,  1.95084562e-01,  1.46012514e-01],\n",
       "       [ 8.60621536e-01, -1.28064817e+00, -5.21032676e-01,\n",
       "         9.12803621e-01,  8.40249979e-01,  2.81021056e-01],\n",
       "       [ 5.70628140e-01, -1.67106701e+00, -6.27172567e-01,\n",
       "         5.80511075e-01,  5.90350463e-01,  7.04089298e-01],\n",
       "       [ 1.14716263e+00,  1.26161402e+00, -7.66909717e-01,\n",
       "         1.90968126e+00,  9.48049770e-01,  4.72646083e-01],\n",
       "       [ 8.60621536e-01, -4.81651482e-01, -4.21835432e-01,\n",
       "         2.48218528e-01,  1.40864888e+00,  6.62404633e-01],\n",
       "       [-8.65529628e-01,  1.22529599e+00,  2.42372745e-02,\n",
       "        -1.41324420e+00, -1.71591174e+00, -1.55734688e-01],\n",
       "       [ 8.60621536e-01, -1.43499981e+00,  3.35633077e-01,\n",
       "        -4.16366564e-01,  3.98493204e-03, -1.04791095e+00],\n",
       "       [-1.15552302e+00,  1.47952221e+00, -4.82314712e-01,\n",
       "         2.48218528e-01,  3.36367621e-01,  3.33904586e-01],\n",
       "       [ 1.14716263e+00, -4.72571974e-01,  3.83665419e-02,\n",
       "        -8.40740177e-02,  1.74348156e+00,  4.95778411e-02],\n",
       "       [ 1.14716263e+00, -1.63868708e-01, -6.29976435e-01,\n",
       "         2.48218528e-01,  9.65199737e-01,  6.35651788e-01],\n",
       "       [ 8.60621536e-01,  1.37056812e+00,  6.59624531e-01,\n",
       "        -7.48659110e-01,  1.34984899e+00, -9.22234797e-01],\n",
       "       [ 1.43370372e+00, -2.76760902e-02,  5.10392016e-01,\n",
       "        -4.16366564e-01, -2.36931268e-01, -1.14496778e+00],\n",
       "       [-5.78988535e-01,  6.31189882e-02, -4.98846696e-01,\n",
       "         2.48218528e-01, -1.30349587e+00,  4.12918802e-01],\n",
       "       [ 1.14716263e+00,  6.26048474e-01,  3.58131201e-01,\n",
       "        -4.16366564e-01, -3.25947762e-01, -1.00622629e+00],\n",
       "       [-5.78988535e-01, -4.90730990e-01, -2.78255769e-01,\n",
       "        -7.48659110e-01,  2.85734386e-01,  1.01081377e+00],\n",
       "       [-1.44206412e+00, -3.81776896e-01,  5.24410594e-01,\n",
       "        -1.08095166e+00, -1.52562877e+00,  1.19932800e+00],\n",
       "       [-2.92447442e-01,  2.08784924e+00, -6.36174870e-01,\n",
       "         1.24509617e+00,  2.64501094e-01,  4.77001197e-01],\n",
       "       [-1.72860521e+00,  1.31609107e+00, -7.84194981e-01,\n",
       "         1.90968126e+00,  1.04441625e+00,  4.32827896e-01],\n",
       "       [-5.78988535e-01, -1.72948216e-01,  2.26526016e+00,\n",
       "        -1.41324420e+00, -2.34066053e+00, -1.83245368e+00],\n",
       "       [-1.44206412e+00, -4.99810498e-01, -6.59514230e-01,\n",
       "         9.12803621e-01, -3.39014403e-01,  6.03921670e-01],\n",
       "       [ 8.60621536e-01, -5.90605576e-01,  1.57006723e+00,\n",
       "        -1.41324420e+00,  2.52666338e+00, -9.64541621e-01],\n",
       "       [ 1.43370372e+00, -9.12326451e-02,  4.10193974e+00,\n",
       "        -1.08095166e+00, -1.06339633e+00, -3.71635167e+00],\n",
       "       [-1.15552302e+00,  1.48860172e+00, -7.16768413e-01,\n",
       "         1.24509617e+00,  2.66134424e-01,  5.87745531e-01],\n",
       "       [-2.45404623e-03, -1.49855636e+00, -5.66758632e-01,\n",
       "         9.12803621e-01,  2.22034510e-01,  4.35316532e-01],\n",
       "       [ 1.43370372e+00, -1.10813752e+00,  6.29912534e-01,\n",
       "        -1.08095166e+00, -1.52399544e+00,  1.28207518e+00],\n",
       "       [ 8.60621536e-01,  1.18897796e+00,  3.35690085e+00,\n",
       "        -1.08095166e+00, -1.57299535e+00, -3.02886578e+00],\n",
       "       [-1.72860521e+00,  9.98308296e-01,  2.59224633e+00,\n",
       "        -1.08095166e+00, -1.71182841e+00, -2.35444523e+00],\n",
       "       [ 8.60621536e-01, -6.72321147e-01,  6.23391804e-01,\n",
       "        -7.48659110e-01, -5.35830689e-01, -1.15430017e+00],\n",
       "       [ 8.60621536e-01, -7.72195733e-01,  7.54096498e-01,\n",
       "        -4.16366564e-01, -7.97980181e-01, -1.15989960e+00],\n",
       "       [ 1.14716263e+00, -4.27174435e-01, -6.59514230e-01,\n",
       "         9.12803621e-01, -3.39014403e-01,  6.03921670e-01],\n",
       "       [-5.78988535e-01,  1.40688615e+00, -7.30527597e-01,\n",
       "         9.12803621e-01, -3.21047772e-01,  5.41083593e-01],\n",
       "       [ 1.43370372e+00, -1.43499981e+00, -4.43597894e-01,\n",
       "        -8.40740177e-02,  3.46167602e-01,  8.95092166e-01],\n",
       "       [-8.65529628e-01, -1.35328424e+00, -8.07728216e-01,\n",
       "         9.12803621e-01, -1.04297971e+00,  2.39336391e-01],\n",
       "       [-5.78988535e-01, -9.35626874e-01, -7.70829942e-01,\n",
       "         2.48218528e-01, -2.83481178e-01,  4.60825059e-01],\n",
       "       [-5.78988535e-01, -4.27174435e-01,  2.26526016e+00,\n",
       "        -1.41324420e+00, -2.34066053e+00, -1.83245368e+00],\n",
       "       [-2.92447442e-01, -5.08890006e-01,  2.55839243e-01,\n",
       "        -4.16366564e-01,  2.18767849e-01, -9.94405262e-01],\n",
       "       [-1.72860521e+00, -2.63743294e-01, -2.27979272e-01,\n",
       "        -8.40740177e-02,  7.06316905e-01,  8.56630735e-02],\n",
       "       [-1.72860521e+00, -1.16261457e+00, -7.81787426e-01,\n",
       "         1.57738871e+00,  3.36367621e-01,  6.12009739e-01],\n",
       "       [-2.92447442e-01,  1.07094436e+00, -4.90393945e-01,\n",
       "        -4.16366564e-01, -1.31650347e-02,  2.68577872e-01],\n",
       "       [ 1.14716263e+00,  1.08002387e+00,  2.59224633e+00,\n",
       "        -1.08095166e+00, -1.71182841e+00, -2.35444523e+00],\n",
       "       [-2.92447442e-01, -1.44407931e+00, -7.31566548e-01,\n",
       "        -8.40740177e-02, -2.65514546e-01,  4.14163120e-01],\n",
       "       [ 8.60621536e-01,  7.21984961e-02, -3.80295813e-01,\n",
       "        -4.16366564e-01,  5.73200496e-01,  2.74177305e-01],\n",
       "       [-1.72860521e+00,  1.69743040e+00, -1.49577601e-01,\n",
       "        -1.08095166e+00,  1.44451327e-01,  1.08049560e+00],\n",
       "       [ 1.43370372e+00,  1.10726239e+00, -5.21740399e-01,\n",
       "         1.90968126e+00,  8.99866530e-01,  2.59245485e-01],\n",
       "       [-2.92447442e-01, -4.63492467e-01, -4.75083129e-01,\n",
       "         2.48218528e-01, -4.13330926e-01,  2.55512530e-01],\n",
       "       [-8.65529628e-01,  8.71195186e-01, -5.66387938e-01,\n",
       "         5.80511075e-01,  6.67116981e-01,  4.93177336e-01],\n",
       "       [ 1.14716263e+00, -4.63492467e-01, -4.21835432e-01,\n",
       "         2.48218528e-01,  1.40864888e+00,  6.62404633e-01],\n",
       "       [ 2.84087047e-01, -1.72948216e-01, -6.03769694e-01,\n",
       "         5.80511075e-01,  6.69566976e-01,  5.93967123e-01],\n",
       "       [ 5.70628140e-01, -8.21531372e-02, -9.07065187e-02,\n",
       "        -1.41324420e+00, -5.84830594e-01,  9.88416043e-01],\n",
       "       [ 1.14716263e+00,  7.21984961e-02, -4.25275572e-01,\n",
       "        -8.40740177e-02,  3.24934310e-01,  2.92842080e-01],\n",
       "       [-8.65529628e-01, -3.36379357e-01,  1.87454016e-01,\n",
       "        -1.08095166e+00, -1.48397885e+00,  9.42998423e-01],\n",
       "       [-2.92447442e-01, -2.00186739e-01, -6.29976435e-01,\n",
       "         2.48218528e-01,  9.65199737e-01,  6.35651788e-01]])"
      ]
     },
     "execution_count": 18,
     "metadata": {},
     "output_type": "execute_result"
    }
   ],
   "source": [
    "scaler.fit(x_test)\n",
    "x_test_scaled = scaler.transform(x_test)\n",
    "x_test_scaled"
   ]
  },
  {
   "cell_type": "code",
   "execution_count": 19,
   "id": "50728153",
   "metadata": {},
   "outputs": [
    {
     "data": {
      "text/plain": [
       "0.6727793308817855"
      ]
     },
     "execution_count": 19,
     "metadata": {},
     "output_type": "execute_result"
    }
   ],
   "source": [
    "reg = LinearRegression()\n",
    "reg.fit(x_scaled,y_train)\n",
    "reg.score(x_test_scaled,y_test)"
   ]
  },
  {
   "cell_type": "code",
   "execution_count": 20,
   "id": "dded1787",
   "metadata": {},
   "outputs": [
    {
     "data": {
      "text/plain": [
       "array([[-0.82368321,  1.25562833, -0.79249504,  2.00740743,  1.12542986,\n",
       "         0.44876222],\n",
       "       [-0.82368321,  0.15708622, -0.61661163,  1.66750286,  0.91244418,\n",
       "         0.40113894],\n",
       "       [ 1.54115111, -0.38779067, -0.41401527,  0.30788458,  1.48686011,\n",
       "         0.68818339],\n",
       "       ...,\n",
       "       [ 0.35873395,  0.09556786, -0.54967846,  0.98769372,  0.82289338,\n",
       "         0.42397202],\n",
       "       [-0.52896662, -0.84478419, -0.77668389,  0.30788458, -0.18475479,\n",
       "         0.4768143 ],\n",
       "       [ 1.24643452, -0.98539758, -0.78807071,  1.66750286,  0.42757905,\n",
       "         0.63534112]])"
      ]
     },
     "execution_count": 20,
     "metadata": {},
     "output_type": "execute_result"
    }
   ],
   "source": [
    "scaler.fit(x)\n",
    "x = scaler.transform(x)\n",
    "x"
   ]
  },
  {
   "cell_type": "code",
   "execution_count": 21,
   "id": "64a3464f",
   "metadata": {},
   "outputs": [],
   "source": [
    "predictions = reg.predict(x)"
   ]
  },
  {
   "cell_type": "code",
   "execution_count": 22,
   "id": "293ac065",
   "metadata": {},
   "outputs": [],
   "source": [
    "data.drop([\"house_price_unit_area\"],axis=1,inplace = True)"
   ]
  },
  {
   "cell_type": "code",
   "execution_count": 23,
   "id": "40558137",
   "metadata": {},
   "outputs": [],
   "source": [
    "data[\"predictions\"]=predictions"
   ]
  },
  {
   "cell_type": "code",
   "execution_count": 24,
   "id": "d414e4f1",
   "metadata": {
    "scrolled": true
   },
   "outputs": [
    {
     "data": {
      "text/html": [
       "<div>\n",
       "<style scoped>\n",
       "    .dataframe tbody tr th:only-of-type {\n",
       "        vertical-align: middle;\n",
       "    }\n",
       "\n",
       "    .dataframe tbody tr th {\n",
       "        vertical-align: top;\n",
       "    }\n",
       "\n",
       "    .dataframe thead th {\n",
       "        text-align: right;\n",
       "    }\n",
       "</style>\n",
       "<table border=\"1\" class=\"dataframe\">\n",
       "  <thead>\n",
       "    <tr style=\"text-align: right;\">\n",
       "      <th></th>\n",
       "      <th>transaction_date</th>\n",
       "      <th>house_age</th>\n",
       "      <th>distance_to_the_nearest_MRT_station</th>\n",
       "      <th>number_of_convenience_stores</th>\n",
       "      <th>latitude</th>\n",
       "      <th>longitude</th>\n",
       "      <th>predictions</th>\n",
       "    </tr>\n",
       "  </thead>\n",
       "  <tbody>\n",
       "    <tr>\n",
       "      <th>0</th>\n",
       "      <td>2012.917</td>\n",
       "      <td>32.0</td>\n",
       "      <td>84.87882</td>\n",
       "      <td>10</td>\n",
       "      <td>24.98298</td>\n",
       "      <td>121.54024</td>\n",
       "      <td>46.811718</td>\n",
       "    </tr>\n",
       "    <tr>\n",
       "      <th>1</th>\n",
       "      <td>2012.917</td>\n",
       "      <td>19.5</td>\n",
       "      <td>306.59470</td>\n",
       "      <td>9</td>\n",
       "      <td>24.98034</td>\n",
       "      <td>121.53951</td>\n",
       "      <td>47.520056</td>\n",
       "    </tr>\n",
       "    <tr>\n",
       "      <th>2</th>\n",
       "      <td>2013.583</td>\n",
       "      <td>13.3</td>\n",
       "      <td>561.98450</td>\n",
       "      <td>5</td>\n",
       "      <td>24.98746</td>\n",
       "      <td>121.54391</td>\n",
       "      <td>48.925018</td>\n",
       "    </tr>\n",
       "    <tr>\n",
       "      <th>3</th>\n",
       "      <td>2013.500</td>\n",
       "      <td>13.3</td>\n",
       "      <td>561.98450</td>\n",
       "      <td>5</td>\n",
       "      <td>24.98746</td>\n",
       "      <td>121.54391</td>\n",
       "      <td>48.474722</td>\n",
       "    </tr>\n",
       "    <tr>\n",
       "      <th>4</th>\n",
       "      <td>2012.833</td>\n",
       "      <td>5.0</td>\n",
       "      <td>390.56840</td>\n",
       "      <td>5</td>\n",
       "      <td>24.97937</td>\n",
       "      <td>121.54245</td>\n",
       "      <td>46.152794</td>\n",
       "    </tr>\n",
       "    <tr>\n",
       "      <th>...</th>\n",
       "      <td>...</td>\n",
       "      <td>...</td>\n",
       "      <td>...</td>\n",
       "      <td>...</td>\n",
       "      <td>...</td>\n",
       "      <td>...</td>\n",
       "      <td>...</td>\n",
       "    </tr>\n",
       "    <tr>\n",
       "      <th>409</th>\n",
       "      <td>2013.000</td>\n",
       "      <td>13.7</td>\n",
       "      <td>4082.01500</td>\n",
       "      <td>0</td>\n",
       "      <td>24.94155</td>\n",
       "      <td>121.50381</td>\n",
       "      <td>14.586115</td>\n",
       "    </tr>\n",
       "    <tr>\n",
       "      <th>410</th>\n",
       "      <td>2012.667</td>\n",
       "      <td>5.6</td>\n",
       "      <td>90.45606</td>\n",
       "      <td>9</td>\n",
       "      <td>24.97433</td>\n",
       "      <td>121.54310</td>\n",
       "      <td>49.501285</td>\n",
       "    </tr>\n",
       "    <tr>\n",
       "      <th>411</th>\n",
       "      <td>2013.250</td>\n",
       "      <td>18.8</td>\n",
       "      <td>390.96960</td>\n",
       "      <td>7</td>\n",
       "      <td>24.97923</td>\n",
       "      <td>121.53986</td>\n",
       "      <td>46.797625</td>\n",
       "    </tr>\n",
       "    <tr>\n",
       "      <th>412</th>\n",
       "      <td>2013.000</td>\n",
       "      <td>8.1</td>\n",
       "      <td>104.81010</td>\n",
       "      <td>5</td>\n",
       "      <td>24.96674</td>\n",
       "      <td>121.54067</td>\n",
       "      <td>44.833554</td>\n",
       "    </tr>\n",
       "    <tr>\n",
       "      <th>413</th>\n",
       "      <td>2013.500</td>\n",
       "      <td>6.5</td>\n",
       "      <td>90.45606</td>\n",
       "      <td>9</td>\n",
       "      <td>24.97433</td>\n",
       "      <td>121.54310</td>\n",
       "      <td>53.778261</td>\n",
       "    </tr>\n",
       "  </tbody>\n",
       "</table>\n",
       "<p>414 rows × 7 columns</p>\n",
       "</div>"
      ],
      "text/plain": [
       "     transaction_date  house_age  distance_to_the_nearest_MRT_station  \\\n",
       "0            2012.917       32.0                             84.87882   \n",
       "1            2012.917       19.5                            306.59470   \n",
       "2            2013.583       13.3                            561.98450   \n",
       "3            2013.500       13.3                            561.98450   \n",
       "4            2012.833        5.0                            390.56840   \n",
       "..                ...        ...                                  ...   \n",
       "409          2013.000       13.7                           4082.01500   \n",
       "410          2012.667        5.6                             90.45606   \n",
       "411          2013.250       18.8                            390.96960   \n",
       "412          2013.000        8.1                            104.81010   \n",
       "413          2013.500        6.5                             90.45606   \n",
       "\n",
       "     number_of_convenience_stores  latitude  longitude  predictions  \n",
       "0                              10  24.98298  121.54024    46.811718  \n",
       "1                               9  24.98034  121.53951    47.520056  \n",
       "2                               5  24.98746  121.54391    48.925018  \n",
       "3                               5  24.98746  121.54391    48.474722  \n",
       "4                               5  24.97937  121.54245    46.152794  \n",
       "..                            ...       ...        ...          ...  \n",
       "409                             0  24.94155  121.50381    14.586115  \n",
       "410                             9  24.97433  121.54310    49.501285  \n",
       "411                             7  24.97923  121.53986    46.797625  \n",
       "412                             5  24.96674  121.54067    44.833554  \n",
       "413                             9  24.97433  121.54310    53.778261  \n",
       "\n",
       "[414 rows x 7 columns]"
      ]
     },
     "execution_count": 24,
     "metadata": {},
     "output_type": "execute_result"
    }
   ],
   "source": [
    "data"
   ]
  },
  {
   "cell_type": "code",
   "execution_count": 25,
   "id": "1920535f",
   "metadata": {},
   "outputs": [],
   "source": [
    "import pymysql"
   ]
  },
  {
   "cell_type": "code",
   "execution_count": 26,
   "id": "ada23b53",
   "metadata": {},
   "outputs": [],
   "source": [
    "conn = pymysql.connect(database = 'predictions', user = 'nativeuser', password = 'Sujay@6476')"
   ]
  },
  {
   "cell_type": "code",
   "execution_count": 27,
   "id": "1823bd39",
   "metadata": {},
   "outputs": [],
   "source": [
    "cursor = conn.cursor()"
   ]
  },
  {
   "cell_type": "code",
   "execution_count": 28,
   "id": "821d98b4",
   "metadata": {},
   "outputs": [
    {
     "data": {
      "text/plain": [
       "0"
      ]
     },
     "execution_count": 28,
     "metadata": {},
     "output_type": "execute_result"
    }
   ],
   "source": [
    "cursor.execute('SELECT * FROM predictions;')"
   ]
  },
  {
   "cell_type": "code",
   "execution_count": 29,
   "id": "139ef24c",
   "metadata": {},
   "outputs": [],
   "source": [
    "insert_query = 'INSERT INTO predictions VALUES '"
   ]
  },
  {
   "cell_type": "code",
   "execution_count": 30,
   "id": "3128a26e",
   "metadata": {},
   "outputs": [],
   "source": [
    "for i in range(data.shape[0]):\n",
    "    insert_query += '(' \n",
    "    \n",
    "    for j in range(data.shape[1]):\n",
    "        insert_query += str(data[data.columns.values[j]][i]) + ', '\n",
    "    \n",
    "    insert_query = insert_query[:-2] + '), '  "
   ]
  },
  {
   "cell_type": "code",
   "execution_count": 31,
   "id": "471d000d",
   "metadata": {},
   "outputs": [
    {
     "data": {
      "text/plain": [
       "'INSERT INTO predictions VALUES (2012.917, 32.0, 84.87882, 10, 24.98298, 121.54024, 46.811717862622864), (2012.917, 19.5, 306.5947, 9, 24.98034, 121.53951, 47.52005559877683), (2013.583, 13.3, 561.9845, 5, 24.98746, 121.54391, 48.92501805179921), (2013.5, 13.3, 561.9845, 5, 24.98746, 121.54391, 48.47472224626102), (2012.833, 5.0, 390.5684, 5, 24.97937, 121.54245, 46.15279394934511), (2012.667, 7.1, 2175.03, 3, 24.96305, 121.51254, 31.305689419887333), (2012.667, 34.5, 623.4731, 7, 24.97933, 121.53642, 38.41540680441196), (2013.417, 20.3, 287.6025, 6, 24.98042, 121.54228, 46.96244574203893), (2013.5, 31.7, 5512.038, 1, 24.95095, 121.48458, 9.272313205414644), (2013.417, 17.9, 1783.18, 3, 24.96731, 121.51486, 35.22531939262863), (2013.083, 34.8, 405.2134, 1, 24.97349, 121.53372, 34.244102421009195), (2013.333, 6.3, 90.45606, 9, 24.97433, 121.5431, 52.92607904673021), (2012.917, 13.0, 492.2313, 5, 24.96515, 121.53737, 40.94946081321124), (2012.667, 20.4, 2469.645, 4, 24.96108, 121.51046, 26.964316021262306), (2013.5, 13.2, 1164.838, 4, 24.99156, 121.53406, 45.77868174693083), (2013.583, 35.7, 579.2083, 2, 24.9824, 121.54619, 38.53777055804704), (2013.25, 0.0, 292.9978, 6, 24.97744, 121.54458, 50.76668551461198), (2012.75, 17.7, 350.8515, 1, 24.97544, 121.53119, 37.806228202906695), (2013.417, 16.9, 368.1363, 8, 24.9675, 121.54451, 46.61148151307142), (2012.667, 1.5, 23.38284, 7, 24.96772, 121.54102, 47.45806202291437), (2013.417, 4.5, 2275.877, 3, 24.96314, 121.51151, 35.64092128799804), (2013.417, 10.5, 279.1726, 7, 24.97528, 121.54541, 49.43685000280671), (2012.917, 14.7, 1360.139, 1, 24.95204, 121.54842, 28.993445940090865), (2013.083, 10.1, 279.1726, 7, 24.97528, 121.54541, 47.73248626711703), (2013.0, 39.6, 480.6977, 4, 24.97353, 121.53885, 35.08864633932409), (2013.083, 29.3, 1487.868, 2, 24.97542, 121.51726, 32.46608629791203), (2012.667, 3.1, 383.8624, 5, 24.98085, 121.54391, 46.083512285320644), (2013.25, 10.4, 276.449, 5, 24.95593, 121.53913, 42.388133645957545), (2013.5, 19.2, 557.478, 4, 24.97419, 121.53797, 43.096636657869), (2013.083, 7.1, 451.2438, 5, 24.97563, 121.54694, 45.693962999195236), (2013.5, 25.9, 4519.69, 0, 24.94826, 121.49587, 13.637349057006542), (2012.75, 29.6, 769.4034, 7, 24.98281, 121.53408, 40.32652105040273), (2012.75, 37.9, 488.5727, 1, 24.97349, 121.53451, 31.181533659940122), (2013.25, 16.5, 323.655, 6, 24.97841, 121.54281, 46.44453457483155), (2012.75, 15.4, 205.367, 7, 24.98419, 121.54243, 46.91915341905866), (2013.5, 13.9, 4079.418, 0, 25.01459, 121.51816, 33.09718813462145), (2012.917, 14.7, 1935.009, 2, 24.96386, 121.51458, 30.8593452739114), (2013.167, 12.0, 1360.139, 1, 24.95204, 121.54842, 31.07653102501407), (2012.667, 3.1, 577.9615, 6, 24.97201, 121.54722, 44.122222623441324), (2013.167, 16.2, 289.3248, 5, 24.98203, 121.54348, 45.99724400668591), (2013.0, 13.6, 4082.015, 0, 24.94155, 121.50381, 14.613032582093009), (2013.5, 16.8, 4066.587, 0, 24.94297, 121.50342, 16.865099873492333), (2013.417, 36.1, 519.4617, 5, 24.96305, 121.53758, 36.840685658818785), (2012.75, 34.4, 512.7871, 6, 24.98748, 121.54301, 40.020057155203716), (2013.583, 2.7, 533.4762, 4, 24.97445, 121.54765, 47.88629438433291), (2013.083, 36.6, 488.8193, 8, 24.97015, 121.54494, 39.49618173647937), (2013.417, 21.7, 463.9623, 9, 24.9703, 121.54458, 46.50984380435404), (2013.583, 35.9, 640.7391, 3, 24.97563, 121.53715, 37.96835013019261), (2013.417, 24.2, 4605.749, 0, 24.94684, 121.49578, 12.919318924167033), (2012.667, 29.4, 4510.359, 1, 24.94925, 121.49542, 9.48199762008041), (2013.417, 21.7, 512.5487, 4, 24.974, 121.53842, 42.13347070259757), (2013.083, 31.3, 1758.406, 1, 24.95402, 121.55282, 23.834518156976827), (2013.583, 32.1, 1438.579, 3, 24.97419, 121.5175, 35.40891274666005), (2013.083, 13.3, 492.2313, 5, 24.96515, 121.53737, 41.769299933438646), (2013.083, 16.1, 289.3248, 5, 24.98203, 121.54348, 45.56844044742961), (2012.833, 31.7, 1160.632, 0, 24.94968, 121.53009, 23.883928354752502), (2013.417, 33.6, 371.2495, 8, 24.97254, 121.54059, 43.33373478144576), (2012.917, 3.5, 56.47425, 7, 24.95744, 121.53711, 45.94187649215193), (2013.5, 30.3, 4510.359, 1, 24.94925, 121.49542, 13.758973954918716), (2013.083, 13.3, 336.0532, 5, 24.95776, 121.53438, 40.95804711043341), (2013.417, 11.0, 1931.207, 2, 24.96365, 121.51471, 34.53571757049056), (2013.5, 5.3, 259.6607, 6, 24.97585, 121.54516, 50.48582972010813), (2012.917, 17.2, 2175.877, 3, 24.96303, 121.51254, 29.934830929404008), (2013.583, 2.6, 533.4762, 4, 24.97445, 121.54765, 47.91321188128258), (2013.333, 17.5, 995.7554, 0, 24.96305, 121.54915, 33.6412310242398), (2013.417, 40.1, 123.7429, 8, 24.97635, 121.54329, 43.5399310973177), (2013.0, 1.0, 193.5845, 6, 24.96571, 121.54089, 47.11264683150848), (2013.5, 8.5, 104.8101, 5, 24.96674, 121.54067, 47.438508923686655), (2013.417, 30.4, 464.223, 6, 24.97964, 121.53805, 43.344751042898515), (2012.833, 12.5, 561.9845, 5, 24.98746, 121.54391, 45.071420025549436), (2013.583, 6.6, 90.45606, 9, 24.97433, 121.5431, 54.20163922316358), (2013.083, 35.5, 640.7391, 3, 24.97563, 121.53715, 35.36339478342655), (2013.583, 32.5, 424.5442, 8, 24.97587, 121.53913, 45.05743916599728), (2013.167, 13.8, 4082.015, 0, 24.94155, 121.50381, 15.465214449937847), (2012.917, 6.8, 379.5575, 10, 24.98343, 121.53762, 52.35858420806714), (2013.5, 12.3, 1360.139, 1, 24.95204, 121.54842, 32.80238700698563), (2013.583, 35.9, 616.4004, 3, 24.97723, 121.53767, 38.42602189534338), (2012.833, 20.5, 2185.128, 3, 24.96322, 121.51237, 28.59363168898406), (2012.917, 38.2, 552.4371, 2, 24.97598, 121.53381, 33.30312017955838), (2013.0, 18.0, 1414.837, 1, 24.95182, 121.54887, 28.23187989006165), (2013.5, 11.8, 533.4762, 4, 24.97445, 121.54765, 44.98650635637557), (2013.0, 30.8, 377.7956, 6, 24.96427, 121.53964, 37.92446355957041), (2013.083, 13.2, 150.9347, 7, 24.96725, 121.54252, 45.807822165687234), (2012.917, 25.3, 2707.392, 3, 24.96056, 121.50831, 24.780455893114357), (2013.083, 15.1, 383.2805, 7, 24.96735, 121.54464, 44.146071377835156), (2012.75, 0.0, 338.9679, 9, 24.96853, 121.54413, 48.949775862879534), (2012.833, 1.8, 1455.798, 1, 24.9512, 121.549, 31.34878719244116), (2013.583, 16.9, 4066.587, 0, 24.94297, 121.50342, 17.28847818208087), (2012.917, 8.9, 1406.43, 0, 24.98573, 121.52758, 37.390339743354126), (2013.5, 23.0, 3947.945, 0, 24.94783, 121.50243, 16.87339978869267), (2012.833, 0.0, 274.0144, 1, 24.9748, 121.53059, 43.263456701396294), (2013.25, 9.1, 1402.016, 0, 24.98569, 121.5276, 39.15478041290186), (2012.917, 20.6, 2469.645, 4, 24.96108, 121.51046, 28.266793694645333), (2012.917, 31.9, 1146.329, 0, 24.9492, 121.53076, 24.228501293380404), (2012.917, 40.9, 167.5989, 5, 24.9663, 121.54026, 35.167472820793535), (2012.917, 8.0, 104.8101, 5, 24.96674, 121.54067, 44.41017526833206), (2013.417, 6.4, 90.45606, 9, 24.97433, 121.5431, 53.35488260598651), (2013.083, 28.4, 617.4424, 3, 24.97746, 121.53299, 37.91122603283883), (2013.417, 16.4, 289.3248, 5, 24.98203, 121.54348, 47.29972168006894), (2013.417, 6.4, 90.45606, 9, 24.97433, 121.5431, 53.35488260598651), (2013.5, 17.5, 964.7496, 4, 24.98872, 121.53411, 44.946022986603715), (2012.833, 12.7, 170.1289, 1, 24.97371, 121.52984, 40.12112682008086), (2013.083, 1.1, 193.5845, 6, 24.96571, 121.54089, 47.53602514009701), (2012.75, 0.0, 208.3905, 6, 24.95618, 121.53844, 43.90429345221938), (2012.667, 32.7, 392.4459, 6, 24.96398, 121.5425, 35.390591643535494), (2012.833, 0.0, 292.9978, 6, 24.97744, 121.54458, 48.50435598558547), (2013.083, 17.2, 189.5181, 8, 24.97707, 121.54308, 47.743216349574524), (2013.333, 12.2, 1360.139, 1, 24.95204, 121.54842, 31.923287642191138), (2013.417, 31.4, 592.5006, 2, 24.9726, 121.53561, 36.851377470142296), (2013.583, 4.0, 2147.376, 3, 24.96299, 121.51284, 37.22019631833436), (2013.083, 8.1, 104.8101, 5, 24.96674, 121.54067, 45.28384938245879), (2013.583, 33.3, 196.6172, 7, 24.97701, 121.54224, 45.070304013278495), (2013.417, 9.9, 2102.427, 3, 24.96044, 121.51462, 34.32891755699167), (2013.333, 14.8, 393.2606, 6, 24.96172, 121.53812, 43.43974913677516), (2012.667, 30.6, 143.8383, 8, 24.98155, 121.54142, 43.14172656650942), (2013.083, 20.6, 737.9161, 2, 24.98092, 121.54739, 38.76657620536366), (2013.0, 30.9, 6396.283, 1, 24.94375, 121.47883, 1.103224170918189), (2013.0, 13.6, 4197.349, 0, 24.93885, 121.50383, 13.459694517891617), (2013.5, 25.3, 1583.722, 3, 24.96622, 121.51709, 34.33288941943737), (2013.5, 16.6, 289.3248, 5, 24.98203, 121.54348, 47.696182491707816), (2013.167, 13.3, 492.2313, 5, 24.96515, 121.53737, 42.22502098964461), (2013.5, 13.6, 492.2313, 5, 24.96515, 121.53737, 43.95087697161618), (2013.25, 31.5, 414.9476, 4, 24.98199, 121.54464, 40.65757253982514), (2013.417, 0.0, 185.4296, 0, 24.9711, 121.5317, 44.97303985354009), (2012.917, 9.9, 279.1726, 7, 24.97528, 121.54541, 46.88572964993996), (2013.167, 1.1, 193.5845, 6, 24.96571, 121.54089, 47.99174619630298), (2013.083, 38.6, 804.6897, 4, 24.97838, 121.53477, 35.451621663300834), (2013.25, 3.8, 383.8624, 5, 24.98085, 121.54391, 49.05801094677592), (2013.083, 41.3, 124.9912, 6, 24.96674, 121.54039, 37.28689884286867), (2013.417, 38.5, 216.8329, 7, 24.98086, 121.54162, 43.54721895442285), (2013.25, 29.6, 535.527, 8, 24.98092, 121.53653, 44.697229380697), (2013.5, 4.0, 2147.376, 3, 24.96299, 121.51284, 36.76990051279616), (2013.167, 26.6, 482.7581, 5, 24.97433, 121.53863, 40.696602087705294), (2012.833, 18.0, 373.3937, 8, 24.9866, 121.54082, 47.475261532240246), (2012.667, 33.4, 186.9686, 6, 24.96604, 121.54211, 36.65521943159811), (2012.917, 18.9, 1009.235, 0, 24.96357, 121.54951, 31.048397658091826), (2012.75, 11.4, 390.5684, 5, 24.97937, 121.54245, 43.97977833902861), (2013.5, 13.6, 319.0708, 6, 24.96495, 121.54277, 45.61046494664247), (2013.167, 10.0, 942.4664, 0, 24.97843, 121.52406, 39.14793375871298), (2012.667, 12.9, 492.2313, 5, 24.96515, 121.53737, 39.62006564287855), (2013.25, 16.2, 289.3248, 5, 24.98203, 121.54348, 46.44753981222411), (2013.333, 5.1, 1559.827, 3, 24.97213, 121.51627, 40.31651708288414), (2013.417, 19.8, 640.6071, 5, 24.97017, 121.54647, 41.97968010123857), (2013.5, 13.6, 492.2313, 5, 24.96515, 121.53737, 43.95087697161618), (2013.083, 11.9, 1360.139, 1, 24.95204, 121.54842, 30.647727465757768), (2012.917, 2.1, 451.2438, 5, 24.97563, 121.54694, 46.139246235601895), (2012.75, 0.0, 185.4296, 0, 24.9711, 121.5317, 41.35439765723122), (2012.75, 3.2, 489.8821, 8, 24.97017, 121.54494, 46.67937779851216), (2013.5, 16.4, 3780.59, 0, 24.93293, 121.51203, 15.864297780852208), (2012.667, 34.9, 179.4538, 8, 24.97349, 121.54245, 39.99163888402561), (2013.25, 35.8, 170.7311, 7, 24.96719, 121.54269, 40.51753484404479), (2013.5, 4.9, 387.7721, 9, 24.98118, 121.53788, 54.45740395728171), (2013.333, 12.0, 1360.139, 1, 24.95204, 121.54842, 31.97712263609046), (2013.25, 6.5, 376.1709, 6, 24.95418, 121.53713, 43.656311860845115), (2013.5, 16.9, 4066.587, 0, 24.94297, 121.50342, 16.838182376542672), (2013.167, 13.8, 4082.015, 0, 24.94155, 121.50381, 15.465214449937847), (2013.583, 30.7, 1264.73, 0, 24.94883, 121.52954, 27.55019494000767), (2013.25, 16.1, 815.9314, 4, 24.97886, 121.53464, 42.47071665215758), (2013.0, 11.6, 390.5684, 5, 24.97937, 121.54245, 45.282256012411644), (2012.667, 15.5, 815.9314, 4, 24.97886, 121.53464, 39.46930049375264), (2012.917, 3.5, 49.66105, 8, 24.95836, 121.53756, 47.194699048516824), (2013.417, 19.2, 616.4004, 3, 24.97723, 121.53767, 42.02065227486038), (2012.75, 16.0, 4066.587, 0, 24.94297, 121.50342, 13.01150184724256), (2013.5, 8.5, 104.8101, 5, 24.96674, 121.54067, 47.438508923686655), (2012.833, 0.0, 185.4296, 0, 24.9711, 121.5317, 41.804693462769414), (2012.917, 13.7, 1236.564, 1, 24.97694, 121.55391, 35.23722741294608), (2013.417, 0.0, 292.9978, 6, 24.97744, 121.54458, 51.67270237635614), (2013.417, 28.2, 330.0854, 8, 24.97408, 121.54011, 45.34054411703712), (2013.083, 27.6, 515.1122, 5, 24.96299, 121.5432, 37.164589855502236), (2013.417, 8.4, 1962.628, 1, 24.95468, 121.55481, 30.923244403651502), (2013.333, 24.0, 4527.687, 0, 24.94741, 121.49628, 13.003764010138411), (2013.083, 3.6, 383.8624, 5, 24.98085, 121.54391, 48.20582907893108), (2013.583, 6.6, 90.45606, 9, 24.97433, 121.5431, 54.20163922316358), (2013.083, 41.3, 401.8807, 4, 24.98326, 121.5446, 37.45983750221998), (2013.417, 4.3, 432.0385, 7, 24.9805, 121.53778, 51.75159968621616), (2013.083, 30.2, 472.1745, 3, 24.97005, 121.53758, 36.34361326251811), (2012.833, 13.9, 4573.779, 0, 24.94867, 121.49507, 13.103758205537197), (2013.083, 33.0, 181.0766, 9, 24.97697, 121.54262, 44.549809811754805), (2013.5, 13.1, 1144.436, 4, 24.99176, 121.53456, 45.93357212536385), (2013.083, 14.0, 438.8513, 1, 24.97493, 121.5273, 40.184447842297416), (2012.667, 26.9, 4449.27, 0, 24.94898, 121.49621, 9.336592392391918), (2013.167, 11.6, 201.8939, 8, 24.98489, 121.54121, 51.43964574287941), (2013.5, 13.5, 2147.376, 3, 24.96299, 121.51284, 34.212738302578366), (2013.5, 17.0, 4082.015, 0, 24.94155, 121.50381, 16.410463020369242), (2012.75, 14.1, 2615.465, 0, 24.95495, 121.56174, 21.47978180660972), (2012.75, 31.4, 1447.286, 3, 24.97285, 121.5173, 30.744020038399988), (2013.167, 20.9, 2185.128, 3, 24.96322, 121.51237, 30.297995424673736), (2013.0, 8.9, 3078.176, 0, 24.95464, 121.56627, 21.822972658351087), (2012.917, 34.8, 190.0392, 8, 24.97707, 121.54312, 42.10151502188507), (2012.917, 16.3, 4066.587, 0, 24.94297, 121.50342, 13.836766218137736), (2013.5, 35.3, 616.5735, 8, 24.97945, 121.53642, 43.80735653050187), (2013.167, 13.2, 750.0704, 2, 24.97371, 121.54951, 39.492015920902936), (2013.167, 43.8, 57.58945, 7, 24.9675, 121.54069, 38.58124754548387), (2013.417, 9.7, 421.479, 5, 24.98246, 121.54477, 48.529521665695455), (2013.5, 15.2, 3771.895, 0, 24.93363, 121.51158, 16.39741922005924), (2013.333, 15.2, 461.1016, 5, 24.95425, 121.5399, 40.266781807963106), (2013.0, 22.8, 707.9067, 2, 24.981, 121.54713, 37.89294492655079), (2013.25, 34.4, 126.7286, 8, 24.96881, 121.54089, 42.54482786612976), (2013.083, 34.0, 157.6052, 7, 24.96628, 121.54196, 39.977173838839), (2013.417, 18.2, 451.6419, 8, 24.96945, 121.5449, 46.28445231568975), (2013.417, 17.4, 995.7554, 0, 24.96305, 121.54915, 34.123869577395425), (2013.417, 13.1, 561.9845, 5, 24.98746, 121.54391, 48.07826143462214), (2012.917, 38.3, 642.6985, 3, 24.97559, 121.53713, 33.691402399786334), (2012.667, 15.6, 289.3248, 5, 24.98203, 121.54348, 43.44612365381917), (2013.0, 18.0, 1414.837, 1, 24.95182, 121.54887, 28.23187989006165), (2013.083, 12.8, 1449.722, 3, 24.97289, 121.51728, 37.555085681652116), (2013.25, 22.2, 379.5575, 10, 24.98343, 121.53762, 50.0198981506399), (2013.083, 38.5, 665.0636, 3, 24.97503, 121.53692, 34.31247653740088), (2012.75, 11.5, 1360.139, 1, 24.95204, 121.54842, 28.948788980735863), (2012.833, 34.8, 175.6294, 8, 24.97347, 121.54271, 40.92562871921351), (2013.5, 5.2, 390.5684, 5, 24.97937, 121.54245, 49.71760115175466), (2013.083, 0.0, 274.0144, 1, 24.9748, 121.53059, 44.61976936867865), (2013.333, 17.6, 1805.665, 2, 24.98672, 121.52091, 37.86024246814361), (2013.083, 6.2, 90.45606, 9, 24.97433, 121.5431, 51.59668387639752), (2013.583, 18.1, 1783.18, 3, 24.96731, 121.51486, 36.07207600980569), (2013.333, 19.2, 383.7129, 8, 24.972, 121.54477, 46.45569291318561), (2013.25, 37.8, 590.9292, 1, 24.97153, 121.53559, 32.964388487805884), (2012.917, 28.0, 372.6242, 6, 24.97838, 121.54119, 41.34727889523298), (2013.417, 13.6, 492.2313, 5, 24.96515, 121.53737, 43.500581166077986), (2012.75, 29.3, 529.7771, 8, 24.98102, 121.53655, 42.11456143384052), (2013.333, 37.2, 186.5101, 9, 24.97703, 121.54265, 44.762068998914614), (2013.333, 9.0, 1402.016, 0, 24.98569, 121.5276, 39.63199371538971), (2013.583, 30.6, 431.1114, 10, 24.98123, 121.53743, 48.83463629396294), (2013.25, 9.1, 1402.016, 0, 24.98569, 121.5276, 39.15478041290186), (2013.333, 34.5, 324.9419, 6, 24.97814, 121.5417, 42.014968243314996), (2013.25, 1.1, 193.5845, 6, 24.96571, 121.54089, 48.44204200184117), (2013.0, 16.5, 4082.015, 0, 24.94155, 121.50381, 13.832425170552838), (2012.917, 32.4, 265.0609, 8, 24.98059, 121.53986, 43.26389240613098), (2013.417, 11.9, 3171.329, 0, 25.00115, 121.51776, 34.554565176964886), (2013.583, 31.0, 1156.412, 0, 24.9489, 121.53095, 27.963576137564193), (2013.5, 4.0, 2147.376, 3, 24.96299, 121.51284, 36.76990051279616), (2012.833, 16.2, 4074.736, 0, 24.94235, 121.50357, 13.226776260801394), (2012.917, 27.1, 4412.765, 1, 24.95032, 121.49587, 12.149896214309024), (2013.333, 39.7, 333.3679, 9, 24.98016, 121.53932, 44.17679901181453), (2013.25, 8.0, 2216.612, 4, 24.96007, 121.51361, 34.36235366395384), (2012.75, 12.9, 250.631, 7, 24.96606, 121.54297, 43.32717762668134), (2013.167, 3.6, 373.8389, 10, 24.98322, 121.53765, 54.556070871819074), (2013.167, 13.0, 732.8528, 0, 24.97668, 121.52518, 38.922895120181046), (2013.083, 12.8, 732.8528, 0, 24.97668, 121.52518, 38.5210090578744), (2013.5, 18.1, 837.7233, 0, 24.96334, 121.54767, 35.248860637163965), (2013.083, 11.0, 1712.632, 2, 24.96412, 121.5167, 33.818200349010645), (2013.5, 13.7, 250.631, 7, 24.96606, 121.54297, 47.18077565293112), (2012.833, 2.0, 2077.39, 3, 24.96357, 121.51329, 34.14091821705294), (2013.417, 32.8, 204.1705, 8, 24.98236, 121.53923, 46.57197398408512), (2013.083, 4.8, 1559.827, 3, 24.97213, 121.51627, 39.040956906450766), (2013.417, 7.5, 639.6198, 5, 24.97258, 121.54814, 45.78394104942651), (2013.417, 16.4, 389.8219, 6, 24.96412, 121.54273, 43.88425763054987), (2013.333, 21.7, 1055.067, 0, 24.96211, 121.54928, 32.013948444735945), (2013.0, 19.0, 1009.235, 0, 24.96357, 121.54951, 31.471775966680358), (2012.833, 18.0, 6306.153, 1, 24.95743, 121.47516, 7.248258030740779), (2013.167, 39.2, 424.7132, 7, 24.97429, 121.53917, 39.61532921429787), (2012.917, 31.7, 1159.454, 0, 24.9496, 121.53018, 24.324939161519538), (2012.833, 5.9, 90.45606, 9, 24.97433, 121.5431, 50.32112369996415), (2012.667, 30.4, 1735.595, 2, 24.96464, 121.51623, 26.35837451394564), (2012.667, 1.1, 329.9747, 5, 24.98254, 121.54395, 47.25464846003992), (2013.417, 31.5, 5512.038, 1, 24.95095, 121.48458, 8.87585239377577), (2012.667, 14.6, 339.2289, 1, 24.97519, 121.53151, 38.1813255653119), (2013.25, 17.3, 444.1334, 1, 24.97501, 121.5273, 40.19469395354098), (2013.417, 0.0, 292.9978, 6, 24.97744, 121.54458, 51.67270237635614), (2013.083, 17.7, 837.7233, 0, 24.96334, 121.54767, 33.0942010959361), (2013.25, 17.0, 1485.097, 4, 24.97073, 121.517, 37.71700813440294), (2013.167, 16.2, 2288.011, 3, 24.95885, 121.51359, 30.0638493175258), (2012.917, 15.9, 289.3248, 5, 24.98203, 121.54348, 44.721683830252545), (2013.417, 3.9, 2147.376, 3, 24.96299, 121.51284, 36.34652220420762), (2013.167, 32.6, 493.657, 7, 24.96968, 121.54522, 39.864615659003974), (2012.833, 15.7, 815.9314, 4, 24.97886, 121.53464, 40.316057110929705), (2013.25, 17.8, 1783.18, 3, 24.96731, 121.51486, 34.34622002783413), (2012.833, 34.7, 482.7581, 5, 24.97433, 121.53863, 36.70425111129443), (2013.417, 17.2, 390.5684, 5, 24.97937, 121.54245, 46.03720571225714), (2013.0, 17.6, 837.7233, 0, 24.96334, 121.54767, 32.67082278734756), (2013.333, 10.8, 252.5822, 1, 24.9746, 121.53046, 43.13080343695669), (2012.917, 17.7, 451.6419, 8, 24.96945, 121.5449, 43.706414465873344), (2012.75, 13.0, 492.2313, 5, 24.96515, 121.53737, 40.04344395146708), (2013.417, 13.2, 170.1289, 1, 24.97371, 121.52984, 43.154885726103224), (2013.167, 27.5, 394.0173, 7, 24.97305, 121.53994, 42.61395168795071), (2012.667, 1.5, 23.38284, 7, 24.96772, 121.54102, 47.45806202291437), (2013.0, 19.1, 461.1016, 5, 24.95425, 121.5399, 37.41039095410577), (2013.417, 21.2, 2185.128, 3, 24.96322, 121.51237, 31.57355560110711), (2012.75, 0.0, 208.3905, 6, 24.95618, 121.53844, 43.90429345221938), (2013.417, 2.6, 1554.25, 3, 24.97026, 121.51642, 41.05165134629093), (2013.25, 2.3, 184.3302, 6, 24.96581, 121.54086, 48.18643397486264), (2013.333, 4.7, 387.7721, 9, 24.98118, 121.53788, 53.60522208943688), (2012.917, 2.0, 1455.798, 1, 24.9512, 121.549, 31.750673254747802), (2013.417, 33.5, 1978.671, 2, 24.98674, 121.51844, 33.282354177051886), (2012.917, 15.0, 383.2805, 7, 24.96735, 121.54464, 43.27239726370843), (2013.167, 30.1, 718.2937, 3, 24.97509, 121.53644, 36.80139299380582), (2012.917, 5.9, 90.45606, 9, 24.97433, 121.5431, 50.77684475617011), (2013.0, 19.2, 461.1016, 5, 24.95425, 121.5399, 37.383473457156114), (2013.583, 16.6, 323.6912, 6, 24.97841, 121.5428, 48.22433609367947), (2013.333, 13.9, 289.3248, 5, 24.98203, 121.54348, 47.516938047604505), (2013.083, 37.7, 490.3446, 0, 24.97217, 121.53471, 31.70586296081741), (2012.833, 3.4, 56.47425, 7, 24.95744, 121.53711, 45.513072932895625), (2013.083, 17.5, 395.6747, 5, 24.95674, 121.534, 39.32596207650333), (2012.667, 12.6, 383.2805, 7, 24.96735, 121.54464, 42.56210452321794), (2013.5, 26.4, 335.5273, 6, 24.9796, 121.5414, 45.383904725503676), (2013.167, 18.2, 2179.59, 3, 24.96299, 121.51252, 30.995862184545807), (2012.75, 12.5, 1144.436, 4, 24.99176, 121.53456, 42.02613910521476), (2012.833, 34.9, 567.0349, 4, 24.97003, 121.5458, 34.058574277169264), (2013.333, 16.7, 4082.015, 0, 24.94155, 121.50381, 15.585198649474066), (2013.167, 33.2, 121.7262, 10, 24.98178, 121.54059, 47.3917433949041), (2013.083, 2.5, 156.2442, 4, 24.96696, 121.53992, 45.58687818860142), (2012.75, 38.0, 461.7848, 0, 24.97229, 121.53445, 29.989309000708687), (2013.5, 16.5, 2288.011, 3, 24.95885, 121.51359, 31.789705299497363), (2013.5, 38.3, 439.7105, 0, 24.97161, 121.53423, 33.93816213933428), (2013.417, 20.0, 1626.083, 3, 24.96622, 121.51668, 35.11805029715466), (2013.083, 16.2, 289.3248, 5, 24.98203, 121.54348, 45.54152295047995), (2013.5, 14.4, 169.9803, 1, 24.97369, 121.52979, 43.27985344052575), (2012.833, 10.3, 3079.89, 0, 24.9546, 121.56627, 20.52300715504866), (2013.417, 16.4, 289.3248, 5, 24.98203, 121.54348, 47.29972168006894), (2013.25, 30.3, 1264.73, 0, 24.94883, 121.52954, 25.851256454985766), (2013.583, 16.4, 1643.499, 2, 24.95394, 121.55174, 32.14917360082006), (2013.167, 21.3, 537.7971, 4, 24.97425, 121.53814, 40.82750657691534), (2013.583, 35.4, 318.5292, 9, 24.97071, 121.54069, 44.620638891202304), (2013.333, 8.3, 104.8101, 5, 24.96674, 121.54067, 46.58632705584182), (2013.25, 3.7, 577.9615, 6, 24.97201, 121.54722, 47.12363878184627), (2013.083, 15.6, 1756.411, 2, 24.9832, 121.51812, 36.574288461795284), (2013.25, 13.3, 250.631, 7, 24.96606, 121.54297, 45.9321329734474), (2012.75, 15.6, 752.7669, 2, 24.97795, 121.53451, 37.93969440267038), (2013.333, 7.1, 379.5575, 10, 24.98343, 121.53762, 54.5347359955769), (2013.25, 34.6, 272.6783, 5, 24.95562, 121.53872, 35.83483305829707), (2012.75, 13.5, 4197.349, 0, 24.93885, 121.50383, 12.130299347558925), (2012.917, 16.9, 964.7496, 4, 24.98872, 121.53411, 41.94460682819878), (2013.0, 12.9, 187.4823, 1, 24.97388, 121.52981, 40.928893808531285), (2013.417, 28.6, 197.1338, 6, 24.97631, 121.54436, 44.18814451032667), (2012.667, 12.4, 1712.632, 2, 24.96412, 121.5167, 31.184451113356644), (2013.083, 36.6, 488.8193, 8, 24.97015, 121.54494, 39.49618173647937), (2013.5, 4.1, 56.47425, 7, 24.95744, 121.53711, 48.94329265055686), (2013.417, 3.5, 757.3377, 3, 24.97538, 121.54971, 44.818664210017175), (2012.833, 15.9, 1497.713, 3, 24.97003, 121.51696, 34.50746610045222), (2013.0, 13.6, 4197.349, 0, 24.93885, 121.50383, 13.459694517891617), (2013.083, 32.0, 1156.777, 0, 24.94935, 121.53046, 25.09403625860027), (2013.333, 25.6, 4519.69, 0, 24.94826, 121.49587, 12.812084686111366), (2013.167, 39.8, 617.7134, 2, 24.97577, 121.53475, 33.842838994664284), (2012.75, 7.8, 104.8101, 5, 24.96674, 121.54067, 43.55799340048723), (2012.917, 30.0, 1013.341, 5, 24.99006, 121.5346, 39.49827098425052), (2013.583, 27.3, 337.6016, 6, 24.96431, 121.54063, 42.20272705085539), (2012.833, 5.1, 1867.233, 2, 24.98407, 121.51748, 37.72542992829227), (2012.833, 31.3, 600.8604, 5, 24.96871, 121.54651, 35.580212886615215), (2012.917, 31.5, 258.186, 9, 24.96867, 121.54331, 41.81795291474519), (2013.333, 1.7, 329.9747, 5, 24.98254, 121.54395, 50.70636042398304), (2013.333, 33.6, 270.8895, 0, 24.97281, 121.53265, 35.417299599154006), (2013.0, 13.0, 750.0704, 2, 24.97371, 121.54951, 38.6398340530581), (2012.667, 5.7, 90.45606, 9, 24.97433, 121.5431, 49.474367082787076), (2013.0, 33.5, 563.2854, 8, 24.98223, 121.53597, 42.46553265893896), (2013.5, 34.6, 3085.17, 0, 24.998, 121.5155, 28.670544620948515), (2012.667, 0.0, 185.4296, 0, 24.9711, 121.5317, 40.90410185169302), (2013.417, 13.2, 1712.632, 2, 24.96412, 121.5167, 35.03804913960642), (2013.583, 17.4, 6488.021, 1, 24.95719, 121.47353, 10.600866909113169), (2012.833, 4.6, 259.6607, 6, 24.97585, 121.54516, 47.0556100024469), (2012.75, 7.8, 104.8101, 5, 24.96674, 121.54067, 43.55799340048723), (2013.0, 13.2, 492.2313, 5, 24.96515, 121.53737, 41.345921624850114), (2012.833, 4.0, 2180.245, 3, 24.96324, 121.51241, 33.06171009816045), (2012.833, 18.4, 2674.961, 3, 24.96143, 121.50827, 26.53196986466571), (2013.5, 4.1, 2147.376, 3, 24.96299, 121.51284, 36.7429830158465), (2013.417, 12.2, 1360.139, 1, 24.95204, 121.54842, 32.3790086983971), (2013.25, 3.8, 383.8624, 5, 24.98085, 121.54391, 49.05801094677592), (2012.833, 10.3, 211.4473, 1, 24.97417, 121.52999, 40.66739521758922), (2013.417, 0.0, 338.9679, 9, 24.96853, 121.54413, 52.5684180591884), (2013.167, 1.1, 193.5845, 6, 24.96571, 121.54089, 47.99174619630298), (2013.5, 5.6, 2408.993, 0, 24.95505, 121.55964, 28.907072000633526), (2012.667, 32.9, 87.30222, 10, 24.983, 121.54022, 45.20656193986973), (2013.083, 41.4, 281.205, 8, 24.97345, 121.54093, 40.046007242099726), (2013.417, 17.1, 967.4, 4, 24.98872, 121.53408, 44.59155960463971), (2013.5, 32.3, 109.9455, 10, 24.98182, 121.54086, 49.498244552426634), (2013.417, 35.3, 614.1394, 7, 24.97913, 121.53666, 42.26239014416228), (2012.917, 17.3, 2261.432, 4, 24.96182, 121.51222, 30.266566266295847), (2012.75, 14.2, 1801.544, 1, 24.95153, 121.55254, 25.878339722278618), (2012.833, 15.0, 1828.319, 2, 24.96464, 121.51531, 30.986447296049853), (2013.417, 18.2, 350.8515, 1, 24.97544, 121.53119, 41.29028291446726), (2012.667, 20.2, 2185.128, 3, 24.96322, 121.51237, 27.773792568756654), (2012.75, 15.9, 289.3248, 5, 24.98203, 121.54348, 43.81566696850838), (2013.5, 4.1, 312.8963, 5, 24.95591, 121.53956, 45.24909788792276), (2013.0, 33.9, 157.6052, 7, 24.96628, 121.54196, 39.55379553025047), (2013.083, 0.0, 274.0144, 1, 24.9748, 121.53059, 44.61976936867865), (2013.25, 5.4, 390.5684, 5, 24.97937, 121.54245, 48.30745349057298), (2013.25, 21.7, 1157.988, 0, 24.96165, 121.55011, 30.945021759787608), (2013.417, 14.7, 1717.193, 2, 24.96447, 121.51649, 34.69626605548781), (2013.333, 3.9, 49.66105, 8, 24.95836, 121.53756, 49.343933339076926), (2013.333, 37.3, 587.8877, 8, 24.97077, 121.54634, 40.28794374120833), (2013.333, 0.0, 292.9978, 6, 24.97744, 121.54458, 51.21698132015018), (2013.333, 14.1, 289.3248, 5, 24.98203, 121.54348, 47.46310305370518), (2013.417, 8.0, 132.5469, 9, 24.98298, 121.53981, 54.74020108848575), (2013.0, 16.3, 3529.564, 0, 24.93207, 121.51597, 14.077269836599783), (2012.667, 29.1, 506.1144, 4, 24.97845, 121.53889, 37.07996974692798), (2012.75, 16.1, 4066.587, 0, 24.94297, 121.50342, 12.984584350292899), (2013.0, 18.3, 82.88643, 10, 24.983, 121.54026, 50.96313070725684), (2012.833, 0.0, 185.4296, 0, 24.9711, 121.5317, 41.804693462769414), (2013.25, 16.2, 2103.555, 3, 24.96042, 121.51462, 31.71724909806727), (2013.5, 10.4, 2251.938, 4, 24.95957, 121.51353, 34.79456837358615), (2013.25, 40.9, 122.3619, 8, 24.96756, 121.5423, 40.49802032688147), (2013.5, 32.8, 377.8302, 9, 24.97151, 121.5435, 44.68447737723918), (2013.583, 6.2, 1939.749, 1, 24.95155, 121.55387, 31.855995255881552), (2013.083, 42.7, 443.802, 6, 24.97927, 121.53874, 38.21774371610951), (2013.0, 16.9, 967.4, 4, 24.98872, 121.53408, 42.38306506951252), (2013.5, 32.6, 4136.271, 1, 24.95544, 121.4963, 16.282803978749975), (2012.917, 21.2, 512.5487, 4, 24.974, 121.53842, 39.555432852781166), (2012.667, 37.1, 918.6357, 1, 24.97198, 121.55063, 28.094133887840144), (2013.417, 13.1, 1164.838, 4, 24.99156, 121.53406, 45.35530343834229), (2013.417, 14.7, 1717.193, 2, 24.96447, 121.51649, 34.69626605548781), (2012.917, 12.7, 170.1289, 1, 24.97371, 121.52984, 40.57684787628682), (2013.25, 26.8, 482.7581, 5, 24.97433, 121.53863, 41.09306289934416), (2013.083, 7.6, 2175.03, 3, 24.96305, 121.51254, 33.428006213497774), (2012.833, 12.7, 187.4823, 1, 24.97388, 121.52981, 40.076711940686444), (2012.667, 30.9, 161.942, 9, 24.98353, 121.53966, 44.49302453743686), (2013.333, 16.4, 289.3248, 5, 24.98203, 121.54348, 46.84400062386298), (2012.667, 23.0, 130.9945, 6, 24.95663, 121.53765, 37.75604017703316), (2013.167, 1.9, 372.1386, 7, 24.97293, 121.54026, 49.5738015537394), (2013.0, 5.2, 2408.993, 0, 24.95505, 121.55964, 26.302116653867465), (2013.417, 18.5, 2175.744, 3, 24.9633, 121.51243, 32.361347369666255), (2013.0, 13.7, 4082.015, 0, 24.94155, 121.50381, 14.586115085143348), (2012.667, 5.6, 90.45606, 9, 24.97433, 121.5431, 49.50128457973674), (2013.25, 18.8, 390.9696, 7, 24.97923, 121.53986, 46.7976248765039), (2013.0, 8.1, 104.8101, 5, 24.96674, 121.54067, 44.83355357692059), (2013.5, 6.5, 90.45606, 9, 24.97433, 121.5431, 53.77826091457504), '"
      ]
     },
     "execution_count": 31,
     "metadata": {},
     "output_type": "execute_result"
    }
   ],
   "source": [
    "insert_query"
   ]
  },
  {
   "cell_type": "code",
   "execution_count": 32,
   "id": "f50c5229",
   "metadata": {},
   "outputs": [],
   "source": [
    "insert_query = insert_query[:-2] + ';'"
   ]
  },
  {
   "cell_type": "code",
   "execution_count": 33,
   "id": "f510fb30",
   "metadata": {},
   "outputs": [
    {
     "data": {
      "text/plain": [
       "'INSERT INTO predictions VALUES (2012.917, 32.0, 84.87882, 10, 24.98298, 121.54024, 46.811717862622864), (2012.917, 19.5, 306.5947, 9, 24.98034, 121.53951, 47.52005559877683), (2013.583, 13.3, 561.9845, 5, 24.98746, 121.54391, 48.92501805179921), (2013.5, 13.3, 561.9845, 5, 24.98746, 121.54391, 48.47472224626102), (2012.833, 5.0, 390.5684, 5, 24.97937, 121.54245, 46.15279394934511), (2012.667, 7.1, 2175.03, 3, 24.96305, 121.51254, 31.305689419887333), (2012.667, 34.5, 623.4731, 7, 24.97933, 121.53642, 38.41540680441196), (2013.417, 20.3, 287.6025, 6, 24.98042, 121.54228, 46.96244574203893), (2013.5, 31.7, 5512.038, 1, 24.95095, 121.48458, 9.272313205414644), (2013.417, 17.9, 1783.18, 3, 24.96731, 121.51486, 35.22531939262863), (2013.083, 34.8, 405.2134, 1, 24.97349, 121.53372, 34.244102421009195), (2013.333, 6.3, 90.45606, 9, 24.97433, 121.5431, 52.92607904673021), (2012.917, 13.0, 492.2313, 5, 24.96515, 121.53737, 40.94946081321124), (2012.667, 20.4, 2469.645, 4, 24.96108, 121.51046, 26.964316021262306), (2013.5, 13.2, 1164.838, 4, 24.99156, 121.53406, 45.77868174693083), (2013.583, 35.7, 579.2083, 2, 24.9824, 121.54619, 38.53777055804704), (2013.25, 0.0, 292.9978, 6, 24.97744, 121.54458, 50.76668551461198), (2012.75, 17.7, 350.8515, 1, 24.97544, 121.53119, 37.806228202906695), (2013.417, 16.9, 368.1363, 8, 24.9675, 121.54451, 46.61148151307142), (2012.667, 1.5, 23.38284, 7, 24.96772, 121.54102, 47.45806202291437), (2013.417, 4.5, 2275.877, 3, 24.96314, 121.51151, 35.64092128799804), (2013.417, 10.5, 279.1726, 7, 24.97528, 121.54541, 49.43685000280671), (2012.917, 14.7, 1360.139, 1, 24.95204, 121.54842, 28.993445940090865), (2013.083, 10.1, 279.1726, 7, 24.97528, 121.54541, 47.73248626711703), (2013.0, 39.6, 480.6977, 4, 24.97353, 121.53885, 35.08864633932409), (2013.083, 29.3, 1487.868, 2, 24.97542, 121.51726, 32.46608629791203), (2012.667, 3.1, 383.8624, 5, 24.98085, 121.54391, 46.083512285320644), (2013.25, 10.4, 276.449, 5, 24.95593, 121.53913, 42.388133645957545), (2013.5, 19.2, 557.478, 4, 24.97419, 121.53797, 43.096636657869), (2013.083, 7.1, 451.2438, 5, 24.97563, 121.54694, 45.693962999195236), (2013.5, 25.9, 4519.69, 0, 24.94826, 121.49587, 13.637349057006542), (2012.75, 29.6, 769.4034, 7, 24.98281, 121.53408, 40.32652105040273), (2012.75, 37.9, 488.5727, 1, 24.97349, 121.53451, 31.181533659940122), (2013.25, 16.5, 323.655, 6, 24.97841, 121.54281, 46.44453457483155), (2012.75, 15.4, 205.367, 7, 24.98419, 121.54243, 46.91915341905866), (2013.5, 13.9, 4079.418, 0, 25.01459, 121.51816, 33.09718813462145), (2012.917, 14.7, 1935.009, 2, 24.96386, 121.51458, 30.8593452739114), (2013.167, 12.0, 1360.139, 1, 24.95204, 121.54842, 31.07653102501407), (2012.667, 3.1, 577.9615, 6, 24.97201, 121.54722, 44.122222623441324), (2013.167, 16.2, 289.3248, 5, 24.98203, 121.54348, 45.99724400668591), (2013.0, 13.6, 4082.015, 0, 24.94155, 121.50381, 14.613032582093009), (2013.5, 16.8, 4066.587, 0, 24.94297, 121.50342, 16.865099873492333), (2013.417, 36.1, 519.4617, 5, 24.96305, 121.53758, 36.840685658818785), (2012.75, 34.4, 512.7871, 6, 24.98748, 121.54301, 40.020057155203716), (2013.583, 2.7, 533.4762, 4, 24.97445, 121.54765, 47.88629438433291), (2013.083, 36.6, 488.8193, 8, 24.97015, 121.54494, 39.49618173647937), (2013.417, 21.7, 463.9623, 9, 24.9703, 121.54458, 46.50984380435404), (2013.583, 35.9, 640.7391, 3, 24.97563, 121.53715, 37.96835013019261), (2013.417, 24.2, 4605.749, 0, 24.94684, 121.49578, 12.919318924167033), (2012.667, 29.4, 4510.359, 1, 24.94925, 121.49542, 9.48199762008041), (2013.417, 21.7, 512.5487, 4, 24.974, 121.53842, 42.13347070259757), (2013.083, 31.3, 1758.406, 1, 24.95402, 121.55282, 23.834518156976827), (2013.583, 32.1, 1438.579, 3, 24.97419, 121.5175, 35.40891274666005), (2013.083, 13.3, 492.2313, 5, 24.96515, 121.53737, 41.769299933438646), (2013.083, 16.1, 289.3248, 5, 24.98203, 121.54348, 45.56844044742961), (2012.833, 31.7, 1160.632, 0, 24.94968, 121.53009, 23.883928354752502), (2013.417, 33.6, 371.2495, 8, 24.97254, 121.54059, 43.33373478144576), (2012.917, 3.5, 56.47425, 7, 24.95744, 121.53711, 45.94187649215193), (2013.5, 30.3, 4510.359, 1, 24.94925, 121.49542, 13.758973954918716), (2013.083, 13.3, 336.0532, 5, 24.95776, 121.53438, 40.95804711043341), (2013.417, 11.0, 1931.207, 2, 24.96365, 121.51471, 34.53571757049056), (2013.5, 5.3, 259.6607, 6, 24.97585, 121.54516, 50.48582972010813), (2012.917, 17.2, 2175.877, 3, 24.96303, 121.51254, 29.934830929404008), (2013.583, 2.6, 533.4762, 4, 24.97445, 121.54765, 47.91321188128258), (2013.333, 17.5, 995.7554, 0, 24.96305, 121.54915, 33.6412310242398), (2013.417, 40.1, 123.7429, 8, 24.97635, 121.54329, 43.5399310973177), (2013.0, 1.0, 193.5845, 6, 24.96571, 121.54089, 47.11264683150848), (2013.5, 8.5, 104.8101, 5, 24.96674, 121.54067, 47.438508923686655), (2013.417, 30.4, 464.223, 6, 24.97964, 121.53805, 43.344751042898515), (2012.833, 12.5, 561.9845, 5, 24.98746, 121.54391, 45.071420025549436), (2013.583, 6.6, 90.45606, 9, 24.97433, 121.5431, 54.20163922316358), (2013.083, 35.5, 640.7391, 3, 24.97563, 121.53715, 35.36339478342655), (2013.583, 32.5, 424.5442, 8, 24.97587, 121.53913, 45.05743916599728), (2013.167, 13.8, 4082.015, 0, 24.94155, 121.50381, 15.465214449937847), (2012.917, 6.8, 379.5575, 10, 24.98343, 121.53762, 52.35858420806714), (2013.5, 12.3, 1360.139, 1, 24.95204, 121.54842, 32.80238700698563), (2013.583, 35.9, 616.4004, 3, 24.97723, 121.53767, 38.42602189534338), (2012.833, 20.5, 2185.128, 3, 24.96322, 121.51237, 28.59363168898406), (2012.917, 38.2, 552.4371, 2, 24.97598, 121.53381, 33.30312017955838), (2013.0, 18.0, 1414.837, 1, 24.95182, 121.54887, 28.23187989006165), (2013.5, 11.8, 533.4762, 4, 24.97445, 121.54765, 44.98650635637557), (2013.0, 30.8, 377.7956, 6, 24.96427, 121.53964, 37.92446355957041), (2013.083, 13.2, 150.9347, 7, 24.96725, 121.54252, 45.807822165687234), (2012.917, 25.3, 2707.392, 3, 24.96056, 121.50831, 24.780455893114357), (2013.083, 15.1, 383.2805, 7, 24.96735, 121.54464, 44.146071377835156), (2012.75, 0.0, 338.9679, 9, 24.96853, 121.54413, 48.949775862879534), (2012.833, 1.8, 1455.798, 1, 24.9512, 121.549, 31.34878719244116), (2013.583, 16.9, 4066.587, 0, 24.94297, 121.50342, 17.28847818208087), (2012.917, 8.9, 1406.43, 0, 24.98573, 121.52758, 37.390339743354126), (2013.5, 23.0, 3947.945, 0, 24.94783, 121.50243, 16.87339978869267), (2012.833, 0.0, 274.0144, 1, 24.9748, 121.53059, 43.263456701396294), (2013.25, 9.1, 1402.016, 0, 24.98569, 121.5276, 39.15478041290186), (2012.917, 20.6, 2469.645, 4, 24.96108, 121.51046, 28.266793694645333), (2012.917, 31.9, 1146.329, 0, 24.9492, 121.53076, 24.228501293380404), (2012.917, 40.9, 167.5989, 5, 24.9663, 121.54026, 35.167472820793535), (2012.917, 8.0, 104.8101, 5, 24.96674, 121.54067, 44.41017526833206), (2013.417, 6.4, 90.45606, 9, 24.97433, 121.5431, 53.35488260598651), (2013.083, 28.4, 617.4424, 3, 24.97746, 121.53299, 37.91122603283883), (2013.417, 16.4, 289.3248, 5, 24.98203, 121.54348, 47.29972168006894), (2013.417, 6.4, 90.45606, 9, 24.97433, 121.5431, 53.35488260598651), (2013.5, 17.5, 964.7496, 4, 24.98872, 121.53411, 44.946022986603715), (2012.833, 12.7, 170.1289, 1, 24.97371, 121.52984, 40.12112682008086), (2013.083, 1.1, 193.5845, 6, 24.96571, 121.54089, 47.53602514009701), (2012.75, 0.0, 208.3905, 6, 24.95618, 121.53844, 43.90429345221938), (2012.667, 32.7, 392.4459, 6, 24.96398, 121.5425, 35.390591643535494), (2012.833, 0.0, 292.9978, 6, 24.97744, 121.54458, 48.50435598558547), (2013.083, 17.2, 189.5181, 8, 24.97707, 121.54308, 47.743216349574524), (2013.333, 12.2, 1360.139, 1, 24.95204, 121.54842, 31.923287642191138), (2013.417, 31.4, 592.5006, 2, 24.9726, 121.53561, 36.851377470142296), (2013.583, 4.0, 2147.376, 3, 24.96299, 121.51284, 37.22019631833436), (2013.083, 8.1, 104.8101, 5, 24.96674, 121.54067, 45.28384938245879), (2013.583, 33.3, 196.6172, 7, 24.97701, 121.54224, 45.070304013278495), (2013.417, 9.9, 2102.427, 3, 24.96044, 121.51462, 34.32891755699167), (2013.333, 14.8, 393.2606, 6, 24.96172, 121.53812, 43.43974913677516), (2012.667, 30.6, 143.8383, 8, 24.98155, 121.54142, 43.14172656650942), (2013.083, 20.6, 737.9161, 2, 24.98092, 121.54739, 38.76657620536366), (2013.0, 30.9, 6396.283, 1, 24.94375, 121.47883, 1.103224170918189), (2013.0, 13.6, 4197.349, 0, 24.93885, 121.50383, 13.459694517891617), (2013.5, 25.3, 1583.722, 3, 24.96622, 121.51709, 34.33288941943737), (2013.5, 16.6, 289.3248, 5, 24.98203, 121.54348, 47.696182491707816), (2013.167, 13.3, 492.2313, 5, 24.96515, 121.53737, 42.22502098964461), (2013.5, 13.6, 492.2313, 5, 24.96515, 121.53737, 43.95087697161618), (2013.25, 31.5, 414.9476, 4, 24.98199, 121.54464, 40.65757253982514), (2013.417, 0.0, 185.4296, 0, 24.9711, 121.5317, 44.97303985354009), (2012.917, 9.9, 279.1726, 7, 24.97528, 121.54541, 46.88572964993996), (2013.167, 1.1, 193.5845, 6, 24.96571, 121.54089, 47.99174619630298), (2013.083, 38.6, 804.6897, 4, 24.97838, 121.53477, 35.451621663300834), (2013.25, 3.8, 383.8624, 5, 24.98085, 121.54391, 49.05801094677592), (2013.083, 41.3, 124.9912, 6, 24.96674, 121.54039, 37.28689884286867), (2013.417, 38.5, 216.8329, 7, 24.98086, 121.54162, 43.54721895442285), (2013.25, 29.6, 535.527, 8, 24.98092, 121.53653, 44.697229380697), (2013.5, 4.0, 2147.376, 3, 24.96299, 121.51284, 36.76990051279616), (2013.167, 26.6, 482.7581, 5, 24.97433, 121.53863, 40.696602087705294), (2012.833, 18.0, 373.3937, 8, 24.9866, 121.54082, 47.475261532240246), (2012.667, 33.4, 186.9686, 6, 24.96604, 121.54211, 36.65521943159811), (2012.917, 18.9, 1009.235, 0, 24.96357, 121.54951, 31.048397658091826), (2012.75, 11.4, 390.5684, 5, 24.97937, 121.54245, 43.97977833902861), (2013.5, 13.6, 319.0708, 6, 24.96495, 121.54277, 45.61046494664247), (2013.167, 10.0, 942.4664, 0, 24.97843, 121.52406, 39.14793375871298), (2012.667, 12.9, 492.2313, 5, 24.96515, 121.53737, 39.62006564287855), (2013.25, 16.2, 289.3248, 5, 24.98203, 121.54348, 46.44753981222411), (2013.333, 5.1, 1559.827, 3, 24.97213, 121.51627, 40.31651708288414), (2013.417, 19.8, 640.6071, 5, 24.97017, 121.54647, 41.97968010123857), (2013.5, 13.6, 492.2313, 5, 24.96515, 121.53737, 43.95087697161618), (2013.083, 11.9, 1360.139, 1, 24.95204, 121.54842, 30.647727465757768), (2012.917, 2.1, 451.2438, 5, 24.97563, 121.54694, 46.139246235601895), (2012.75, 0.0, 185.4296, 0, 24.9711, 121.5317, 41.35439765723122), (2012.75, 3.2, 489.8821, 8, 24.97017, 121.54494, 46.67937779851216), (2013.5, 16.4, 3780.59, 0, 24.93293, 121.51203, 15.864297780852208), (2012.667, 34.9, 179.4538, 8, 24.97349, 121.54245, 39.99163888402561), (2013.25, 35.8, 170.7311, 7, 24.96719, 121.54269, 40.51753484404479), (2013.5, 4.9, 387.7721, 9, 24.98118, 121.53788, 54.45740395728171), (2013.333, 12.0, 1360.139, 1, 24.95204, 121.54842, 31.97712263609046), (2013.25, 6.5, 376.1709, 6, 24.95418, 121.53713, 43.656311860845115), (2013.5, 16.9, 4066.587, 0, 24.94297, 121.50342, 16.838182376542672), (2013.167, 13.8, 4082.015, 0, 24.94155, 121.50381, 15.465214449937847), (2013.583, 30.7, 1264.73, 0, 24.94883, 121.52954, 27.55019494000767), (2013.25, 16.1, 815.9314, 4, 24.97886, 121.53464, 42.47071665215758), (2013.0, 11.6, 390.5684, 5, 24.97937, 121.54245, 45.282256012411644), (2012.667, 15.5, 815.9314, 4, 24.97886, 121.53464, 39.46930049375264), (2012.917, 3.5, 49.66105, 8, 24.95836, 121.53756, 47.194699048516824), (2013.417, 19.2, 616.4004, 3, 24.97723, 121.53767, 42.02065227486038), (2012.75, 16.0, 4066.587, 0, 24.94297, 121.50342, 13.01150184724256), (2013.5, 8.5, 104.8101, 5, 24.96674, 121.54067, 47.438508923686655), (2012.833, 0.0, 185.4296, 0, 24.9711, 121.5317, 41.804693462769414), (2012.917, 13.7, 1236.564, 1, 24.97694, 121.55391, 35.23722741294608), (2013.417, 0.0, 292.9978, 6, 24.97744, 121.54458, 51.67270237635614), (2013.417, 28.2, 330.0854, 8, 24.97408, 121.54011, 45.34054411703712), (2013.083, 27.6, 515.1122, 5, 24.96299, 121.5432, 37.164589855502236), (2013.417, 8.4, 1962.628, 1, 24.95468, 121.55481, 30.923244403651502), (2013.333, 24.0, 4527.687, 0, 24.94741, 121.49628, 13.003764010138411), (2013.083, 3.6, 383.8624, 5, 24.98085, 121.54391, 48.20582907893108), (2013.583, 6.6, 90.45606, 9, 24.97433, 121.5431, 54.20163922316358), (2013.083, 41.3, 401.8807, 4, 24.98326, 121.5446, 37.45983750221998), (2013.417, 4.3, 432.0385, 7, 24.9805, 121.53778, 51.75159968621616), (2013.083, 30.2, 472.1745, 3, 24.97005, 121.53758, 36.34361326251811), (2012.833, 13.9, 4573.779, 0, 24.94867, 121.49507, 13.103758205537197), (2013.083, 33.0, 181.0766, 9, 24.97697, 121.54262, 44.549809811754805), (2013.5, 13.1, 1144.436, 4, 24.99176, 121.53456, 45.93357212536385), (2013.083, 14.0, 438.8513, 1, 24.97493, 121.5273, 40.184447842297416), (2012.667, 26.9, 4449.27, 0, 24.94898, 121.49621, 9.336592392391918), (2013.167, 11.6, 201.8939, 8, 24.98489, 121.54121, 51.43964574287941), (2013.5, 13.5, 2147.376, 3, 24.96299, 121.51284, 34.212738302578366), (2013.5, 17.0, 4082.015, 0, 24.94155, 121.50381, 16.410463020369242), (2012.75, 14.1, 2615.465, 0, 24.95495, 121.56174, 21.47978180660972), (2012.75, 31.4, 1447.286, 3, 24.97285, 121.5173, 30.744020038399988), (2013.167, 20.9, 2185.128, 3, 24.96322, 121.51237, 30.297995424673736), (2013.0, 8.9, 3078.176, 0, 24.95464, 121.56627, 21.822972658351087), (2012.917, 34.8, 190.0392, 8, 24.97707, 121.54312, 42.10151502188507), (2012.917, 16.3, 4066.587, 0, 24.94297, 121.50342, 13.836766218137736), (2013.5, 35.3, 616.5735, 8, 24.97945, 121.53642, 43.80735653050187), (2013.167, 13.2, 750.0704, 2, 24.97371, 121.54951, 39.492015920902936), (2013.167, 43.8, 57.58945, 7, 24.9675, 121.54069, 38.58124754548387), (2013.417, 9.7, 421.479, 5, 24.98246, 121.54477, 48.529521665695455), (2013.5, 15.2, 3771.895, 0, 24.93363, 121.51158, 16.39741922005924), (2013.333, 15.2, 461.1016, 5, 24.95425, 121.5399, 40.266781807963106), (2013.0, 22.8, 707.9067, 2, 24.981, 121.54713, 37.89294492655079), (2013.25, 34.4, 126.7286, 8, 24.96881, 121.54089, 42.54482786612976), (2013.083, 34.0, 157.6052, 7, 24.96628, 121.54196, 39.977173838839), (2013.417, 18.2, 451.6419, 8, 24.96945, 121.5449, 46.28445231568975), (2013.417, 17.4, 995.7554, 0, 24.96305, 121.54915, 34.123869577395425), (2013.417, 13.1, 561.9845, 5, 24.98746, 121.54391, 48.07826143462214), (2012.917, 38.3, 642.6985, 3, 24.97559, 121.53713, 33.691402399786334), (2012.667, 15.6, 289.3248, 5, 24.98203, 121.54348, 43.44612365381917), (2013.0, 18.0, 1414.837, 1, 24.95182, 121.54887, 28.23187989006165), (2013.083, 12.8, 1449.722, 3, 24.97289, 121.51728, 37.555085681652116), (2013.25, 22.2, 379.5575, 10, 24.98343, 121.53762, 50.0198981506399), (2013.083, 38.5, 665.0636, 3, 24.97503, 121.53692, 34.31247653740088), (2012.75, 11.5, 1360.139, 1, 24.95204, 121.54842, 28.948788980735863), (2012.833, 34.8, 175.6294, 8, 24.97347, 121.54271, 40.92562871921351), (2013.5, 5.2, 390.5684, 5, 24.97937, 121.54245, 49.71760115175466), (2013.083, 0.0, 274.0144, 1, 24.9748, 121.53059, 44.61976936867865), (2013.333, 17.6, 1805.665, 2, 24.98672, 121.52091, 37.86024246814361), (2013.083, 6.2, 90.45606, 9, 24.97433, 121.5431, 51.59668387639752), (2013.583, 18.1, 1783.18, 3, 24.96731, 121.51486, 36.07207600980569), (2013.333, 19.2, 383.7129, 8, 24.972, 121.54477, 46.45569291318561), (2013.25, 37.8, 590.9292, 1, 24.97153, 121.53559, 32.964388487805884), (2012.917, 28.0, 372.6242, 6, 24.97838, 121.54119, 41.34727889523298), (2013.417, 13.6, 492.2313, 5, 24.96515, 121.53737, 43.500581166077986), (2012.75, 29.3, 529.7771, 8, 24.98102, 121.53655, 42.11456143384052), (2013.333, 37.2, 186.5101, 9, 24.97703, 121.54265, 44.762068998914614), (2013.333, 9.0, 1402.016, 0, 24.98569, 121.5276, 39.63199371538971), (2013.583, 30.6, 431.1114, 10, 24.98123, 121.53743, 48.83463629396294), (2013.25, 9.1, 1402.016, 0, 24.98569, 121.5276, 39.15478041290186), (2013.333, 34.5, 324.9419, 6, 24.97814, 121.5417, 42.014968243314996), (2013.25, 1.1, 193.5845, 6, 24.96571, 121.54089, 48.44204200184117), (2013.0, 16.5, 4082.015, 0, 24.94155, 121.50381, 13.832425170552838), (2012.917, 32.4, 265.0609, 8, 24.98059, 121.53986, 43.26389240613098), (2013.417, 11.9, 3171.329, 0, 25.00115, 121.51776, 34.554565176964886), (2013.583, 31.0, 1156.412, 0, 24.9489, 121.53095, 27.963576137564193), (2013.5, 4.0, 2147.376, 3, 24.96299, 121.51284, 36.76990051279616), (2012.833, 16.2, 4074.736, 0, 24.94235, 121.50357, 13.226776260801394), (2012.917, 27.1, 4412.765, 1, 24.95032, 121.49587, 12.149896214309024), (2013.333, 39.7, 333.3679, 9, 24.98016, 121.53932, 44.17679901181453), (2013.25, 8.0, 2216.612, 4, 24.96007, 121.51361, 34.36235366395384), (2012.75, 12.9, 250.631, 7, 24.96606, 121.54297, 43.32717762668134), (2013.167, 3.6, 373.8389, 10, 24.98322, 121.53765, 54.556070871819074), (2013.167, 13.0, 732.8528, 0, 24.97668, 121.52518, 38.922895120181046), (2013.083, 12.8, 732.8528, 0, 24.97668, 121.52518, 38.5210090578744), (2013.5, 18.1, 837.7233, 0, 24.96334, 121.54767, 35.248860637163965), (2013.083, 11.0, 1712.632, 2, 24.96412, 121.5167, 33.818200349010645), (2013.5, 13.7, 250.631, 7, 24.96606, 121.54297, 47.18077565293112), (2012.833, 2.0, 2077.39, 3, 24.96357, 121.51329, 34.14091821705294), (2013.417, 32.8, 204.1705, 8, 24.98236, 121.53923, 46.57197398408512), (2013.083, 4.8, 1559.827, 3, 24.97213, 121.51627, 39.040956906450766), (2013.417, 7.5, 639.6198, 5, 24.97258, 121.54814, 45.78394104942651), (2013.417, 16.4, 389.8219, 6, 24.96412, 121.54273, 43.88425763054987), (2013.333, 21.7, 1055.067, 0, 24.96211, 121.54928, 32.013948444735945), (2013.0, 19.0, 1009.235, 0, 24.96357, 121.54951, 31.471775966680358), (2012.833, 18.0, 6306.153, 1, 24.95743, 121.47516, 7.248258030740779), (2013.167, 39.2, 424.7132, 7, 24.97429, 121.53917, 39.61532921429787), (2012.917, 31.7, 1159.454, 0, 24.9496, 121.53018, 24.324939161519538), (2012.833, 5.9, 90.45606, 9, 24.97433, 121.5431, 50.32112369996415), (2012.667, 30.4, 1735.595, 2, 24.96464, 121.51623, 26.35837451394564), (2012.667, 1.1, 329.9747, 5, 24.98254, 121.54395, 47.25464846003992), (2013.417, 31.5, 5512.038, 1, 24.95095, 121.48458, 8.87585239377577), (2012.667, 14.6, 339.2289, 1, 24.97519, 121.53151, 38.1813255653119), (2013.25, 17.3, 444.1334, 1, 24.97501, 121.5273, 40.19469395354098), (2013.417, 0.0, 292.9978, 6, 24.97744, 121.54458, 51.67270237635614), (2013.083, 17.7, 837.7233, 0, 24.96334, 121.54767, 33.0942010959361), (2013.25, 17.0, 1485.097, 4, 24.97073, 121.517, 37.71700813440294), (2013.167, 16.2, 2288.011, 3, 24.95885, 121.51359, 30.0638493175258), (2012.917, 15.9, 289.3248, 5, 24.98203, 121.54348, 44.721683830252545), (2013.417, 3.9, 2147.376, 3, 24.96299, 121.51284, 36.34652220420762), (2013.167, 32.6, 493.657, 7, 24.96968, 121.54522, 39.864615659003974), (2012.833, 15.7, 815.9314, 4, 24.97886, 121.53464, 40.316057110929705), (2013.25, 17.8, 1783.18, 3, 24.96731, 121.51486, 34.34622002783413), (2012.833, 34.7, 482.7581, 5, 24.97433, 121.53863, 36.70425111129443), (2013.417, 17.2, 390.5684, 5, 24.97937, 121.54245, 46.03720571225714), (2013.0, 17.6, 837.7233, 0, 24.96334, 121.54767, 32.67082278734756), (2013.333, 10.8, 252.5822, 1, 24.9746, 121.53046, 43.13080343695669), (2012.917, 17.7, 451.6419, 8, 24.96945, 121.5449, 43.706414465873344), (2012.75, 13.0, 492.2313, 5, 24.96515, 121.53737, 40.04344395146708), (2013.417, 13.2, 170.1289, 1, 24.97371, 121.52984, 43.154885726103224), (2013.167, 27.5, 394.0173, 7, 24.97305, 121.53994, 42.61395168795071), (2012.667, 1.5, 23.38284, 7, 24.96772, 121.54102, 47.45806202291437), (2013.0, 19.1, 461.1016, 5, 24.95425, 121.5399, 37.41039095410577), (2013.417, 21.2, 2185.128, 3, 24.96322, 121.51237, 31.57355560110711), (2012.75, 0.0, 208.3905, 6, 24.95618, 121.53844, 43.90429345221938), (2013.417, 2.6, 1554.25, 3, 24.97026, 121.51642, 41.05165134629093), (2013.25, 2.3, 184.3302, 6, 24.96581, 121.54086, 48.18643397486264), (2013.333, 4.7, 387.7721, 9, 24.98118, 121.53788, 53.60522208943688), (2012.917, 2.0, 1455.798, 1, 24.9512, 121.549, 31.750673254747802), (2013.417, 33.5, 1978.671, 2, 24.98674, 121.51844, 33.282354177051886), (2012.917, 15.0, 383.2805, 7, 24.96735, 121.54464, 43.27239726370843), (2013.167, 30.1, 718.2937, 3, 24.97509, 121.53644, 36.80139299380582), (2012.917, 5.9, 90.45606, 9, 24.97433, 121.5431, 50.77684475617011), (2013.0, 19.2, 461.1016, 5, 24.95425, 121.5399, 37.383473457156114), (2013.583, 16.6, 323.6912, 6, 24.97841, 121.5428, 48.22433609367947), (2013.333, 13.9, 289.3248, 5, 24.98203, 121.54348, 47.516938047604505), (2013.083, 37.7, 490.3446, 0, 24.97217, 121.53471, 31.70586296081741), (2012.833, 3.4, 56.47425, 7, 24.95744, 121.53711, 45.513072932895625), (2013.083, 17.5, 395.6747, 5, 24.95674, 121.534, 39.32596207650333), (2012.667, 12.6, 383.2805, 7, 24.96735, 121.54464, 42.56210452321794), (2013.5, 26.4, 335.5273, 6, 24.9796, 121.5414, 45.383904725503676), (2013.167, 18.2, 2179.59, 3, 24.96299, 121.51252, 30.995862184545807), (2012.75, 12.5, 1144.436, 4, 24.99176, 121.53456, 42.02613910521476), (2012.833, 34.9, 567.0349, 4, 24.97003, 121.5458, 34.058574277169264), (2013.333, 16.7, 4082.015, 0, 24.94155, 121.50381, 15.585198649474066), (2013.167, 33.2, 121.7262, 10, 24.98178, 121.54059, 47.3917433949041), (2013.083, 2.5, 156.2442, 4, 24.96696, 121.53992, 45.58687818860142), (2012.75, 38.0, 461.7848, 0, 24.97229, 121.53445, 29.989309000708687), (2013.5, 16.5, 2288.011, 3, 24.95885, 121.51359, 31.789705299497363), (2013.5, 38.3, 439.7105, 0, 24.97161, 121.53423, 33.93816213933428), (2013.417, 20.0, 1626.083, 3, 24.96622, 121.51668, 35.11805029715466), (2013.083, 16.2, 289.3248, 5, 24.98203, 121.54348, 45.54152295047995), (2013.5, 14.4, 169.9803, 1, 24.97369, 121.52979, 43.27985344052575), (2012.833, 10.3, 3079.89, 0, 24.9546, 121.56627, 20.52300715504866), (2013.417, 16.4, 289.3248, 5, 24.98203, 121.54348, 47.29972168006894), (2013.25, 30.3, 1264.73, 0, 24.94883, 121.52954, 25.851256454985766), (2013.583, 16.4, 1643.499, 2, 24.95394, 121.55174, 32.14917360082006), (2013.167, 21.3, 537.7971, 4, 24.97425, 121.53814, 40.82750657691534), (2013.583, 35.4, 318.5292, 9, 24.97071, 121.54069, 44.620638891202304), (2013.333, 8.3, 104.8101, 5, 24.96674, 121.54067, 46.58632705584182), (2013.25, 3.7, 577.9615, 6, 24.97201, 121.54722, 47.12363878184627), (2013.083, 15.6, 1756.411, 2, 24.9832, 121.51812, 36.574288461795284), (2013.25, 13.3, 250.631, 7, 24.96606, 121.54297, 45.9321329734474), (2012.75, 15.6, 752.7669, 2, 24.97795, 121.53451, 37.93969440267038), (2013.333, 7.1, 379.5575, 10, 24.98343, 121.53762, 54.5347359955769), (2013.25, 34.6, 272.6783, 5, 24.95562, 121.53872, 35.83483305829707), (2012.75, 13.5, 4197.349, 0, 24.93885, 121.50383, 12.130299347558925), (2012.917, 16.9, 964.7496, 4, 24.98872, 121.53411, 41.94460682819878), (2013.0, 12.9, 187.4823, 1, 24.97388, 121.52981, 40.928893808531285), (2013.417, 28.6, 197.1338, 6, 24.97631, 121.54436, 44.18814451032667), (2012.667, 12.4, 1712.632, 2, 24.96412, 121.5167, 31.184451113356644), (2013.083, 36.6, 488.8193, 8, 24.97015, 121.54494, 39.49618173647937), (2013.5, 4.1, 56.47425, 7, 24.95744, 121.53711, 48.94329265055686), (2013.417, 3.5, 757.3377, 3, 24.97538, 121.54971, 44.818664210017175), (2012.833, 15.9, 1497.713, 3, 24.97003, 121.51696, 34.50746610045222), (2013.0, 13.6, 4197.349, 0, 24.93885, 121.50383, 13.459694517891617), (2013.083, 32.0, 1156.777, 0, 24.94935, 121.53046, 25.09403625860027), (2013.333, 25.6, 4519.69, 0, 24.94826, 121.49587, 12.812084686111366), (2013.167, 39.8, 617.7134, 2, 24.97577, 121.53475, 33.842838994664284), (2012.75, 7.8, 104.8101, 5, 24.96674, 121.54067, 43.55799340048723), (2012.917, 30.0, 1013.341, 5, 24.99006, 121.5346, 39.49827098425052), (2013.583, 27.3, 337.6016, 6, 24.96431, 121.54063, 42.20272705085539), (2012.833, 5.1, 1867.233, 2, 24.98407, 121.51748, 37.72542992829227), (2012.833, 31.3, 600.8604, 5, 24.96871, 121.54651, 35.580212886615215), (2012.917, 31.5, 258.186, 9, 24.96867, 121.54331, 41.81795291474519), (2013.333, 1.7, 329.9747, 5, 24.98254, 121.54395, 50.70636042398304), (2013.333, 33.6, 270.8895, 0, 24.97281, 121.53265, 35.417299599154006), (2013.0, 13.0, 750.0704, 2, 24.97371, 121.54951, 38.6398340530581), (2012.667, 5.7, 90.45606, 9, 24.97433, 121.5431, 49.474367082787076), (2013.0, 33.5, 563.2854, 8, 24.98223, 121.53597, 42.46553265893896), (2013.5, 34.6, 3085.17, 0, 24.998, 121.5155, 28.670544620948515), (2012.667, 0.0, 185.4296, 0, 24.9711, 121.5317, 40.90410185169302), (2013.417, 13.2, 1712.632, 2, 24.96412, 121.5167, 35.03804913960642), (2013.583, 17.4, 6488.021, 1, 24.95719, 121.47353, 10.600866909113169), (2012.833, 4.6, 259.6607, 6, 24.97585, 121.54516, 47.0556100024469), (2012.75, 7.8, 104.8101, 5, 24.96674, 121.54067, 43.55799340048723), (2013.0, 13.2, 492.2313, 5, 24.96515, 121.53737, 41.345921624850114), (2012.833, 4.0, 2180.245, 3, 24.96324, 121.51241, 33.06171009816045), (2012.833, 18.4, 2674.961, 3, 24.96143, 121.50827, 26.53196986466571), (2013.5, 4.1, 2147.376, 3, 24.96299, 121.51284, 36.7429830158465), (2013.417, 12.2, 1360.139, 1, 24.95204, 121.54842, 32.3790086983971), (2013.25, 3.8, 383.8624, 5, 24.98085, 121.54391, 49.05801094677592), (2012.833, 10.3, 211.4473, 1, 24.97417, 121.52999, 40.66739521758922), (2013.417, 0.0, 338.9679, 9, 24.96853, 121.54413, 52.5684180591884), (2013.167, 1.1, 193.5845, 6, 24.96571, 121.54089, 47.99174619630298), (2013.5, 5.6, 2408.993, 0, 24.95505, 121.55964, 28.907072000633526), (2012.667, 32.9, 87.30222, 10, 24.983, 121.54022, 45.20656193986973), (2013.083, 41.4, 281.205, 8, 24.97345, 121.54093, 40.046007242099726), (2013.417, 17.1, 967.4, 4, 24.98872, 121.53408, 44.59155960463971), (2013.5, 32.3, 109.9455, 10, 24.98182, 121.54086, 49.498244552426634), (2013.417, 35.3, 614.1394, 7, 24.97913, 121.53666, 42.26239014416228), (2012.917, 17.3, 2261.432, 4, 24.96182, 121.51222, 30.266566266295847), (2012.75, 14.2, 1801.544, 1, 24.95153, 121.55254, 25.878339722278618), (2012.833, 15.0, 1828.319, 2, 24.96464, 121.51531, 30.986447296049853), (2013.417, 18.2, 350.8515, 1, 24.97544, 121.53119, 41.29028291446726), (2012.667, 20.2, 2185.128, 3, 24.96322, 121.51237, 27.773792568756654), (2012.75, 15.9, 289.3248, 5, 24.98203, 121.54348, 43.81566696850838), (2013.5, 4.1, 312.8963, 5, 24.95591, 121.53956, 45.24909788792276), (2013.0, 33.9, 157.6052, 7, 24.96628, 121.54196, 39.55379553025047), (2013.083, 0.0, 274.0144, 1, 24.9748, 121.53059, 44.61976936867865), (2013.25, 5.4, 390.5684, 5, 24.97937, 121.54245, 48.30745349057298), (2013.25, 21.7, 1157.988, 0, 24.96165, 121.55011, 30.945021759787608), (2013.417, 14.7, 1717.193, 2, 24.96447, 121.51649, 34.69626605548781), (2013.333, 3.9, 49.66105, 8, 24.95836, 121.53756, 49.343933339076926), (2013.333, 37.3, 587.8877, 8, 24.97077, 121.54634, 40.28794374120833), (2013.333, 0.0, 292.9978, 6, 24.97744, 121.54458, 51.21698132015018), (2013.333, 14.1, 289.3248, 5, 24.98203, 121.54348, 47.46310305370518), (2013.417, 8.0, 132.5469, 9, 24.98298, 121.53981, 54.74020108848575), (2013.0, 16.3, 3529.564, 0, 24.93207, 121.51597, 14.077269836599783), (2012.667, 29.1, 506.1144, 4, 24.97845, 121.53889, 37.07996974692798), (2012.75, 16.1, 4066.587, 0, 24.94297, 121.50342, 12.984584350292899), (2013.0, 18.3, 82.88643, 10, 24.983, 121.54026, 50.96313070725684), (2012.833, 0.0, 185.4296, 0, 24.9711, 121.5317, 41.804693462769414), (2013.25, 16.2, 2103.555, 3, 24.96042, 121.51462, 31.71724909806727), (2013.5, 10.4, 2251.938, 4, 24.95957, 121.51353, 34.79456837358615), (2013.25, 40.9, 122.3619, 8, 24.96756, 121.5423, 40.49802032688147), (2013.5, 32.8, 377.8302, 9, 24.97151, 121.5435, 44.68447737723918), (2013.583, 6.2, 1939.749, 1, 24.95155, 121.55387, 31.855995255881552), (2013.083, 42.7, 443.802, 6, 24.97927, 121.53874, 38.21774371610951), (2013.0, 16.9, 967.4, 4, 24.98872, 121.53408, 42.38306506951252), (2013.5, 32.6, 4136.271, 1, 24.95544, 121.4963, 16.282803978749975), (2012.917, 21.2, 512.5487, 4, 24.974, 121.53842, 39.555432852781166), (2012.667, 37.1, 918.6357, 1, 24.97198, 121.55063, 28.094133887840144), (2013.417, 13.1, 1164.838, 4, 24.99156, 121.53406, 45.35530343834229), (2013.417, 14.7, 1717.193, 2, 24.96447, 121.51649, 34.69626605548781), (2012.917, 12.7, 170.1289, 1, 24.97371, 121.52984, 40.57684787628682), (2013.25, 26.8, 482.7581, 5, 24.97433, 121.53863, 41.09306289934416), (2013.083, 7.6, 2175.03, 3, 24.96305, 121.51254, 33.428006213497774), (2012.833, 12.7, 187.4823, 1, 24.97388, 121.52981, 40.076711940686444), (2012.667, 30.9, 161.942, 9, 24.98353, 121.53966, 44.49302453743686), (2013.333, 16.4, 289.3248, 5, 24.98203, 121.54348, 46.84400062386298), (2012.667, 23.0, 130.9945, 6, 24.95663, 121.53765, 37.75604017703316), (2013.167, 1.9, 372.1386, 7, 24.97293, 121.54026, 49.5738015537394), (2013.0, 5.2, 2408.993, 0, 24.95505, 121.55964, 26.302116653867465), (2013.417, 18.5, 2175.744, 3, 24.9633, 121.51243, 32.361347369666255), (2013.0, 13.7, 4082.015, 0, 24.94155, 121.50381, 14.586115085143348), (2012.667, 5.6, 90.45606, 9, 24.97433, 121.5431, 49.50128457973674), (2013.25, 18.8, 390.9696, 7, 24.97923, 121.53986, 46.7976248765039), (2013.0, 8.1, 104.8101, 5, 24.96674, 121.54067, 44.83355357692059), (2013.5, 6.5, 90.45606, 9, 24.97433, 121.5431, 53.77826091457504);'"
      ]
     },
     "execution_count": 33,
     "metadata": {},
     "output_type": "execute_result"
    }
   ],
   "source": [
    "insert_query"
   ]
  },
  {
   "cell_type": "code",
   "execution_count": 34,
   "id": "afc0998e",
   "metadata": {},
   "outputs": [
    {
     "data": {
      "text/plain": [
       "'INSERT INTO predictions VALUES (2012.917, 32.0, 84.87882, 10, 24.98298, 121.54024, 46.811717862622864), (2012.917, 19.5, 306.5947, 9, 24.98034, 121.53951, 47.52005559877683), (2013.583, 13.3, 561.9845, 5, 24.98746, 121.54391, 48.92501805179921), (2013.5, 13.3, 561.9845, 5, 24.98746, 121.54391, 48.47472224626102), (2012.833, 5.0, 390.5684, 5, 24.97937, 121.54245, 46.15279394934511), (2012.667, 7.1, 2175.03, 3, 24.96305, 121.51254, 31.305689419887333), (2012.667, 34.5, 623.4731, 7, 24.97933, 121.53642, 38.41540680441196), (2013.417, 20.3, 287.6025, 6, 24.98042, 121.54228, 46.96244574203893), (2013.5, 31.7, 5512.038, 1, 24.95095, 121.48458, 9.272313205414644), (2013.417, 17.9, 1783.18, 3, 24.96731, 121.51486, 35.22531939262863), (2013.083, 34.8, 405.2134, 1, 24.97349, 121.53372, 34.244102421009195), (2013.333, 6.3, 90.45606, 9, 24.97433, 121.5431, 52.92607904673021), (2012.917, 13.0, 492.2313, 5, 24.96515, 121.53737, 40.94946081321124), (2012.667, 20.4, 2469.645, 4, 24.96108, 121.51046, 26.964316021262306), (2013.5, 13.2, 1164.838, 4, 24.99156, 121.53406, 45.77868174693083), (2013.583, 35.7, 579.2083, 2, 24.9824, 121.54619, 38.53777055804704), (2013.25, 0.0, 292.9978, 6, 24.97744, 121.54458, 50.76668551461198), (2012.75, 17.7, 350.8515, 1, 24.97544, 121.53119, 37.806228202906695), (2013.417, 16.9, 368.1363, 8, 24.9675, 121.54451, 46.61148151307142), (2012.667, 1.5, 23.38284, 7, 24.96772, 121.54102, 47.45806202291437), (2013.417, 4.5, 2275.877, 3, 24.96314, 121.51151, 35.64092128799804), (2013.417, 10.5, 279.1726, 7, 24.97528, 121.54541, 49.43685000280671), (2012.917, 14.7, 1360.139, 1, 24.95204, 121.54842, 28.993445940090865), (2013.083, 10.1, 279.1726, 7, 24.97528, 121.54541, 47.73248626711703), (2013.0, 39.6, 480.6977, 4, 24.97353, 121.53885, 35.08864633932409), (2013.083, 29.3, 1487.868, 2, 24.97542, 121.51726, 32.46608629791203), (2012.667, 3.1, 383.8624, 5, 24.98085, 121.54391, 46.083512285320644), (2013.25, 10.4, 276.449, 5, 24.95593, 121.53913, 42.388133645957545), (2013.5, 19.2, 557.478, 4, 24.97419, 121.53797, 43.096636657869), (2013.083, 7.1, 451.2438, 5, 24.97563, 121.54694, 45.693962999195236), (2013.5, 25.9, 4519.69, 0, 24.94826, 121.49587, 13.637349057006542), (2012.75, 29.6, 769.4034, 7, 24.98281, 121.53408, 40.32652105040273), (2012.75, 37.9, 488.5727, 1, 24.97349, 121.53451, 31.181533659940122), (2013.25, 16.5, 323.655, 6, 24.97841, 121.54281, 46.44453457483155), (2012.75, 15.4, 205.367, 7, 24.98419, 121.54243, 46.91915341905866), (2013.5, 13.9, 4079.418, 0, 25.01459, 121.51816, 33.09718813462145), (2012.917, 14.7, 1935.009, 2, 24.96386, 121.51458, 30.8593452739114), (2013.167, 12.0, 1360.139, 1, 24.95204, 121.54842, 31.07653102501407), (2012.667, 3.1, 577.9615, 6, 24.97201, 121.54722, 44.122222623441324), (2013.167, 16.2, 289.3248, 5, 24.98203, 121.54348, 45.99724400668591), (2013.0, 13.6, 4082.015, 0, 24.94155, 121.50381, 14.613032582093009), (2013.5, 16.8, 4066.587, 0, 24.94297, 121.50342, 16.865099873492333), (2013.417, 36.1, 519.4617, 5, 24.96305, 121.53758, 36.840685658818785), (2012.75, 34.4, 512.7871, 6, 24.98748, 121.54301, 40.020057155203716), (2013.583, 2.7, 533.4762, 4, 24.97445, 121.54765, 47.88629438433291), (2013.083, 36.6, 488.8193, 8, 24.97015, 121.54494, 39.49618173647937), (2013.417, 21.7, 463.9623, 9, 24.9703, 121.54458, 46.50984380435404), (2013.583, 35.9, 640.7391, 3, 24.97563, 121.53715, 37.96835013019261), (2013.417, 24.2, 4605.749, 0, 24.94684, 121.49578, 12.919318924167033), (2012.667, 29.4, 4510.359, 1, 24.94925, 121.49542, 9.48199762008041), (2013.417, 21.7, 512.5487, 4, 24.974, 121.53842, 42.13347070259757), (2013.083, 31.3, 1758.406, 1, 24.95402, 121.55282, 23.834518156976827), (2013.583, 32.1, 1438.579, 3, 24.97419, 121.5175, 35.40891274666005), (2013.083, 13.3, 492.2313, 5, 24.96515, 121.53737, 41.769299933438646), (2013.083, 16.1, 289.3248, 5, 24.98203, 121.54348, 45.56844044742961), (2012.833, 31.7, 1160.632, 0, 24.94968, 121.53009, 23.883928354752502), (2013.417, 33.6, 371.2495, 8, 24.97254, 121.54059, 43.33373478144576), (2012.917, 3.5, 56.47425, 7, 24.95744, 121.53711, 45.94187649215193), (2013.5, 30.3, 4510.359, 1, 24.94925, 121.49542, 13.758973954918716), (2013.083, 13.3, 336.0532, 5, 24.95776, 121.53438, 40.95804711043341), (2013.417, 11.0, 1931.207, 2, 24.96365, 121.51471, 34.53571757049056), (2013.5, 5.3, 259.6607, 6, 24.97585, 121.54516, 50.48582972010813), (2012.917, 17.2, 2175.877, 3, 24.96303, 121.51254, 29.934830929404008), (2013.583, 2.6, 533.4762, 4, 24.97445, 121.54765, 47.91321188128258), (2013.333, 17.5, 995.7554, 0, 24.96305, 121.54915, 33.6412310242398), (2013.417, 40.1, 123.7429, 8, 24.97635, 121.54329, 43.5399310973177), (2013.0, 1.0, 193.5845, 6, 24.96571, 121.54089, 47.11264683150848), (2013.5, 8.5, 104.8101, 5, 24.96674, 121.54067, 47.438508923686655), (2013.417, 30.4, 464.223, 6, 24.97964, 121.53805, 43.344751042898515), (2012.833, 12.5, 561.9845, 5, 24.98746, 121.54391, 45.071420025549436), (2013.583, 6.6, 90.45606, 9, 24.97433, 121.5431, 54.20163922316358), (2013.083, 35.5, 640.7391, 3, 24.97563, 121.53715, 35.36339478342655), (2013.583, 32.5, 424.5442, 8, 24.97587, 121.53913, 45.05743916599728), (2013.167, 13.8, 4082.015, 0, 24.94155, 121.50381, 15.465214449937847), (2012.917, 6.8, 379.5575, 10, 24.98343, 121.53762, 52.35858420806714), (2013.5, 12.3, 1360.139, 1, 24.95204, 121.54842, 32.80238700698563), (2013.583, 35.9, 616.4004, 3, 24.97723, 121.53767, 38.42602189534338), (2012.833, 20.5, 2185.128, 3, 24.96322, 121.51237, 28.59363168898406), (2012.917, 38.2, 552.4371, 2, 24.97598, 121.53381, 33.30312017955838), (2013.0, 18.0, 1414.837, 1, 24.95182, 121.54887, 28.23187989006165), (2013.5, 11.8, 533.4762, 4, 24.97445, 121.54765, 44.98650635637557), (2013.0, 30.8, 377.7956, 6, 24.96427, 121.53964, 37.92446355957041), (2013.083, 13.2, 150.9347, 7, 24.96725, 121.54252, 45.807822165687234), (2012.917, 25.3, 2707.392, 3, 24.96056, 121.50831, 24.780455893114357), (2013.083, 15.1, 383.2805, 7, 24.96735, 121.54464, 44.146071377835156), (2012.75, 0.0, 338.9679, 9, 24.96853, 121.54413, 48.949775862879534), (2012.833, 1.8, 1455.798, 1, 24.9512, 121.549, 31.34878719244116), (2013.583, 16.9, 4066.587, 0, 24.94297, 121.50342, 17.28847818208087), (2012.917, 8.9, 1406.43, 0, 24.98573, 121.52758, 37.390339743354126), (2013.5, 23.0, 3947.945, 0, 24.94783, 121.50243, 16.87339978869267), (2012.833, 0.0, 274.0144, 1, 24.9748, 121.53059, 43.263456701396294), (2013.25, 9.1, 1402.016, 0, 24.98569, 121.5276, 39.15478041290186), (2012.917, 20.6, 2469.645, 4, 24.96108, 121.51046, 28.266793694645333), (2012.917, 31.9, 1146.329, 0, 24.9492, 121.53076, 24.228501293380404), (2012.917, 40.9, 167.5989, 5, 24.9663, 121.54026, 35.167472820793535), (2012.917, 8.0, 104.8101, 5, 24.96674, 121.54067, 44.41017526833206), (2013.417, 6.4, 90.45606, 9, 24.97433, 121.5431, 53.35488260598651), (2013.083, 28.4, 617.4424, 3, 24.97746, 121.53299, 37.91122603283883), (2013.417, 16.4, 289.3248, 5, 24.98203, 121.54348, 47.29972168006894), (2013.417, 6.4, 90.45606, 9, 24.97433, 121.5431, 53.35488260598651), (2013.5, 17.5, 964.7496, 4, 24.98872, 121.53411, 44.946022986603715), (2012.833, 12.7, 170.1289, 1, 24.97371, 121.52984, 40.12112682008086), (2013.083, 1.1, 193.5845, 6, 24.96571, 121.54089, 47.53602514009701), (2012.75, 0.0, 208.3905, 6, 24.95618, 121.53844, 43.90429345221938), (2012.667, 32.7, 392.4459, 6, 24.96398, 121.5425, 35.390591643535494), (2012.833, 0.0, 292.9978, 6, 24.97744, 121.54458, 48.50435598558547), (2013.083, 17.2, 189.5181, 8, 24.97707, 121.54308, 47.743216349574524), (2013.333, 12.2, 1360.139, 1, 24.95204, 121.54842, 31.923287642191138), (2013.417, 31.4, 592.5006, 2, 24.9726, 121.53561, 36.851377470142296), (2013.583, 4.0, 2147.376, 3, 24.96299, 121.51284, 37.22019631833436), (2013.083, 8.1, 104.8101, 5, 24.96674, 121.54067, 45.28384938245879), (2013.583, 33.3, 196.6172, 7, 24.97701, 121.54224, 45.070304013278495), (2013.417, 9.9, 2102.427, 3, 24.96044, 121.51462, 34.32891755699167), (2013.333, 14.8, 393.2606, 6, 24.96172, 121.53812, 43.43974913677516), (2012.667, 30.6, 143.8383, 8, 24.98155, 121.54142, 43.14172656650942), (2013.083, 20.6, 737.9161, 2, 24.98092, 121.54739, 38.76657620536366), (2013.0, 30.9, 6396.283, 1, 24.94375, 121.47883, 1.103224170918189), (2013.0, 13.6, 4197.349, 0, 24.93885, 121.50383, 13.459694517891617), (2013.5, 25.3, 1583.722, 3, 24.96622, 121.51709, 34.33288941943737), (2013.5, 16.6, 289.3248, 5, 24.98203, 121.54348, 47.696182491707816), (2013.167, 13.3, 492.2313, 5, 24.96515, 121.53737, 42.22502098964461), (2013.5, 13.6, 492.2313, 5, 24.96515, 121.53737, 43.95087697161618), (2013.25, 31.5, 414.9476, 4, 24.98199, 121.54464, 40.65757253982514), (2013.417, 0.0, 185.4296, 0, 24.9711, 121.5317, 44.97303985354009), (2012.917, 9.9, 279.1726, 7, 24.97528, 121.54541, 46.88572964993996), (2013.167, 1.1, 193.5845, 6, 24.96571, 121.54089, 47.99174619630298), (2013.083, 38.6, 804.6897, 4, 24.97838, 121.53477, 35.451621663300834), (2013.25, 3.8, 383.8624, 5, 24.98085, 121.54391, 49.05801094677592), (2013.083, 41.3, 124.9912, 6, 24.96674, 121.54039, 37.28689884286867), (2013.417, 38.5, 216.8329, 7, 24.98086, 121.54162, 43.54721895442285), (2013.25, 29.6, 535.527, 8, 24.98092, 121.53653, 44.697229380697), (2013.5, 4.0, 2147.376, 3, 24.96299, 121.51284, 36.76990051279616), (2013.167, 26.6, 482.7581, 5, 24.97433, 121.53863, 40.696602087705294), (2012.833, 18.0, 373.3937, 8, 24.9866, 121.54082, 47.475261532240246), (2012.667, 33.4, 186.9686, 6, 24.96604, 121.54211, 36.65521943159811), (2012.917, 18.9, 1009.235, 0, 24.96357, 121.54951, 31.048397658091826), (2012.75, 11.4, 390.5684, 5, 24.97937, 121.54245, 43.97977833902861), (2013.5, 13.6, 319.0708, 6, 24.96495, 121.54277, 45.61046494664247), (2013.167, 10.0, 942.4664, 0, 24.97843, 121.52406, 39.14793375871298), (2012.667, 12.9, 492.2313, 5, 24.96515, 121.53737, 39.62006564287855), (2013.25, 16.2, 289.3248, 5, 24.98203, 121.54348, 46.44753981222411), (2013.333, 5.1, 1559.827, 3, 24.97213, 121.51627, 40.31651708288414), (2013.417, 19.8, 640.6071, 5, 24.97017, 121.54647, 41.97968010123857), (2013.5, 13.6, 492.2313, 5, 24.96515, 121.53737, 43.95087697161618), (2013.083, 11.9, 1360.139, 1, 24.95204, 121.54842, 30.647727465757768), (2012.917, 2.1, 451.2438, 5, 24.97563, 121.54694, 46.139246235601895), (2012.75, 0.0, 185.4296, 0, 24.9711, 121.5317, 41.35439765723122), (2012.75, 3.2, 489.8821, 8, 24.97017, 121.54494, 46.67937779851216), (2013.5, 16.4, 3780.59, 0, 24.93293, 121.51203, 15.864297780852208), (2012.667, 34.9, 179.4538, 8, 24.97349, 121.54245, 39.99163888402561), (2013.25, 35.8, 170.7311, 7, 24.96719, 121.54269, 40.51753484404479), (2013.5, 4.9, 387.7721, 9, 24.98118, 121.53788, 54.45740395728171), (2013.333, 12.0, 1360.139, 1, 24.95204, 121.54842, 31.97712263609046), (2013.25, 6.5, 376.1709, 6, 24.95418, 121.53713, 43.656311860845115), (2013.5, 16.9, 4066.587, 0, 24.94297, 121.50342, 16.838182376542672), (2013.167, 13.8, 4082.015, 0, 24.94155, 121.50381, 15.465214449937847), (2013.583, 30.7, 1264.73, 0, 24.94883, 121.52954, 27.55019494000767), (2013.25, 16.1, 815.9314, 4, 24.97886, 121.53464, 42.47071665215758), (2013.0, 11.6, 390.5684, 5, 24.97937, 121.54245, 45.282256012411644), (2012.667, 15.5, 815.9314, 4, 24.97886, 121.53464, 39.46930049375264), (2012.917, 3.5, 49.66105, 8, 24.95836, 121.53756, 47.194699048516824), (2013.417, 19.2, 616.4004, 3, 24.97723, 121.53767, 42.02065227486038), (2012.75, 16.0, 4066.587, 0, 24.94297, 121.50342, 13.01150184724256), (2013.5, 8.5, 104.8101, 5, 24.96674, 121.54067, 47.438508923686655), (2012.833, 0.0, 185.4296, 0, 24.9711, 121.5317, 41.804693462769414), (2012.917, 13.7, 1236.564, 1, 24.97694, 121.55391, 35.23722741294608), (2013.417, 0.0, 292.9978, 6, 24.97744, 121.54458, 51.67270237635614), (2013.417, 28.2, 330.0854, 8, 24.97408, 121.54011, 45.34054411703712), (2013.083, 27.6, 515.1122, 5, 24.96299, 121.5432, 37.164589855502236), (2013.417, 8.4, 1962.628, 1, 24.95468, 121.55481, 30.923244403651502), (2013.333, 24.0, 4527.687, 0, 24.94741, 121.49628, 13.003764010138411), (2013.083, 3.6, 383.8624, 5, 24.98085, 121.54391, 48.20582907893108), (2013.583, 6.6, 90.45606, 9, 24.97433, 121.5431, 54.20163922316358), (2013.083, 41.3, 401.8807, 4, 24.98326, 121.5446, 37.45983750221998), (2013.417, 4.3, 432.0385, 7, 24.9805, 121.53778, 51.75159968621616), (2013.083, 30.2, 472.1745, 3, 24.97005, 121.53758, 36.34361326251811), (2012.833, 13.9, 4573.779, 0, 24.94867, 121.49507, 13.103758205537197), (2013.083, 33.0, 181.0766, 9, 24.97697, 121.54262, 44.549809811754805), (2013.5, 13.1, 1144.436, 4, 24.99176, 121.53456, 45.93357212536385), (2013.083, 14.0, 438.8513, 1, 24.97493, 121.5273, 40.184447842297416), (2012.667, 26.9, 4449.27, 0, 24.94898, 121.49621, 9.336592392391918), (2013.167, 11.6, 201.8939, 8, 24.98489, 121.54121, 51.43964574287941), (2013.5, 13.5, 2147.376, 3, 24.96299, 121.51284, 34.212738302578366), (2013.5, 17.0, 4082.015, 0, 24.94155, 121.50381, 16.410463020369242), (2012.75, 14.1, 2615.465, 0, 24.95495, 121.56174, 21.47978180660972), (2012.75, 31.4, 1447.286, 3, 24.97285, 121.5173, 30.744020038399988), (2013.167, 20.9, 2185.128, 3, 24.96322, 121.51237, 30.297995424673736), (2013.0, 8.9, 3078.176, 0, 24.95464, 121.56627, 21.822972658351087), (2012.917, 34.8, 190.0392, 8, 24.97707, 121.54312, 42.10151502188507), (2012.917, 16.3, 4066.587, 0, 24.94297, 121.50342, 13.836766218137736), (2013.5, 35.3, 616.5735, 8, 24.97945, 121.53642, 43.80735653050187), (2013.167, 13.2, 750.0704, 2, 24.97371, 121.54951, 39.492015920902936), (2013.167, 43.8, 57.58945, 7, 24.9675, 121.54069, 38.58124754548387), (2013.417, 9.7, 421.479, 5, 24.98246, 121.54477, 48.529521665695455), (2013.5, 15.2, 3771.895, 0, 24.93363, 121.51158, 16.39741922005924), (2013.333, 15.2, 461.1016, 5, 24.95425, 121.5399, 40.266781807963106), (2013.0, 22.8, 707.9067, 2, 24.981, 121.54713, 37.89294492655079), (2013.25, 34.4, 126.7286, 8, 24.96881, 121.54089, 42.54482786612976), (2013.083, 34.0, 157.6052, 7, 24.96628, 121.54196, 39.977173838839), (2013.417, 18.2, 451.6419, 8, 24.96945, 121.5449, 46.28445231568975), (2013.417, 17.4, 995.7554, 0, 24.96305, 121.54915, 34.123869577395425), (2013.417, 13.1, 561.9845, 5, 24.98746, 121.54391, 48.07826143462214), (2012.917, 38.3, 642.6985, 3, 24.97559, 121.53713, 33.691402399786334), (2012.667, 15.6, 289.3248, 5, 24.98203, 121.54348, 43.44612365381917), (2013.0, 18.0, 1414.837, 1, 24.95182, 121.54887, 28.23187989006165), (2013.083, 12.8, 1449.722, 3, 24.97289, 121.51728, 37.555085681652116), (2013.25, 22.2, 379.5575, 10, 24.98343, 121.53762, 50.0198981506399), (2013.083, 38.5, 665.0636, 3, 24.97503, 121.53692, 34.31247653740088), (2012.75, 11.5, 1360.139, 1, 24.95204, 121.54842, 28.948788980735863), (2012.833, 34.8, 175.6294, 8, 24.97347, 121.54271, 40.92562871921351), (2013.5, 5.2, 390.5684, 5, 24.97937, 121.54245, 49.71760115175466), (2013.083, 0.0, 274.0144, 1, 24.9748, 121.53059, 44.61976936867865), (2013.333, 17.6, 1805.665, 2, 24.98672, 121.52091, 37.86024246814361), (2013.083, 6.2, 90.45606, 9, 24.97433, 121.5431, 51.59668387639752), (2013.583, 18.1, 1783.18, 3, 24.96731, 121.51486, 36.07207600980569), (2013.333, 19.2, 383.7129, 8, 24.972, 121.54477, 46.45569291318561), (2013.25, 37.8, 590.9292, 1, 24.97153, 121.53559, 32.964388487805884), (2012.917, 28.0, 372.6242, 6, 24.97838, 121.54119, 41.34727889523298), (2013.417, 13.6, 492.2313, 5, 24.96515, 121.53737, 43.500581166077986), (2012.75, 29.3, 529.7771, 8, 24.98102, 121.53655, 42.11456143384052), (2013.333, 37.2, 186.5101, 9, 24.97703, 121.54265, 44.762068998914614), (2013.333, 9.0, 1402.016, 0, 24.98569, 121.5276, 39.63199371538971), (2013.583, 30.6, 431.1114, 10, 24.98123, 121.53743, 48.83463629396294), (2013.25, 9.1, 1402.016, 0, 24.98569, 121.5276, 39.15478041290186), (2013.333, 34.5, 324.9419, 6, 24.97814, 121.5417, 42.014968243314996), (2013.25, 1.1, 193.5845, 6, 24.96571, 121.54089, 48.44204200184117), (2013.0, 16.5, 4082.015, 0, 24.94155, 121.50381, 13.832425170552838), (2012.917, 32.4, 265.0609, 8, 24.98059, 121.53986, 43.26389240613098), (2013.417, 11.9, 3171.329, 0, 25.00115, 121.51776, 34.554565176964886), (2013.583, 31.0, 1156.412, 0, 24.9489, 121.53095, 27.963576137564193), (2013.5, 4.0, 2147.376, 3, 24.96299, 121.51284, 36.76990051279616), (2012.833, 16.2, 4074.736, 0, 24.94235, 121.50357, 13.226776260801394), (2012.917, 27.1, 4412.765, 1, 24.95032, 121.49587, 12.149896214309024), (2013.333, 39.7, 333.3679, 9, 24.98016, 121.53932, 44.17679901181453), (2013.25, 8.0, 2216.612, 4, 24.96007, 121.51361, 34.36235366395384), (2012.75, 12.9, 250.631, 7, 24.96606, 121.54297, 43.32717762668134), (2013.167, 3.6, 373.8389, 10, 24.98322, 121.53765, 54.556070871819074), (2013.167, 13.0, 732.8528, 0, 24.97668, 121.52518, 38.922895120181046), (2013.083, 12.8, 732.8528, 0, 24.97668, 121.52518, 38.5210090578744), (2013.5, 18.1, 837.7233, 0, 24.96334, 121.54767, 35.248860637163965), (2013.083, 11.0, 1712.632, 2, 24.96412, 121.5167, 33.818200349010645), (2013.5, 13.7, 250.631, 7, 24.96606, 121.54297, 47.18077565293112), (2012.833, 2.0, 2077.39, 3, 24.96357, 121.51329, 34.14091821705294), (2013.417, 32.8, 204.1705, 8, 24.98236, 121.53923, 46.57197398408512), (2013.083, 4.8, 1559.827, 3, 24.97213, 121.51627, 39.040956906450766), (2013.417, 7.5, 639.6198, 5, 24.97258, 121.54814, 45.78394104942651), (2013.417, 16.4, 389.8219, 6, 24.96412, 121.54273, 43.88425763054987), (2013.333, 21.7, 1055.067, 0, 24.96211, 121.54928, 32.013948444735945), (2013.0, 19.0, 1009.235, 0, 24.96357, 121.54951, 31.471775966680358), (2012.833, 18.0, 6306.153, 1, 24.95743, 121.47516, 7.248258030740779), (2013.167, 39.2, 424.7132, 7, 24.97429, 121.53917, 39.61532921429787), (2012.917, 31.7, 1159.454, 0, 24.9496, 121.53018, 24.324939161519538), (2012.833, 5.9, 90.45606, 9, 24.97433, 121.5431, 50.32112369996415), (2012.667, 30.4, 1735.595, 2, 24.96464, 121.51623, 26.35837451394564), (2012.667, 1.1, 329.9747, 5, 24.98254, 121.54395, 47.25464846003992), (2013.417, 31.5, 5512.038, 1, 24.95095, 121.48458, 8.87585239377577), (2012.667, 14.6, 339.2289, 1, 24.97519, 121.53151, 38.1813255653119), (2013.25, 17.3, 444.1334, 1, 24.97501, 121.5273, 40.19469395354098), (2013.417, 0.0, 292.9978, 6, 24.97744, 121.54458, 51.67270237635614), (2013.083, 17.7, 837.7233, 0, 24.96334, 121.54767, 33.0942010959361), (2013.25, 17.0, 1485.097, 4, 24.97073, 121.517, 37.71700813440294), (2013.167, 16.2, 2288.011, 3, 24.95885, 121.51359, 30.0638493175258), (2012.917, 15.9, 289.3248, 5, 24.98203, 121.54348, 44.721683830252545), (2013.417, 3.9, 2147.376, 3, 24.96299, 121.51284, 36.34652220420762), (2013.167, 32.6, 493.657, 7, 24.96968, 121.54522, 39.864615659003974), (2012.833, 15.7, 815.9314, 4, 24.97886, 121.53464, 40.316057110929705), (2013.25, 17.8, 1783.18, 3, 24.96731, 121.51486, 34.34622002783413), (2012.833, 34.7, 482.7581, 5, 24.97433, 121.53863, 36.70425111129443), (2013.417, 17.2, 390.5684, 5, 24.97937, 121.54245, 46.03720571225714), (2013.0, 17.6, 837.7233, 0, 24.96334, 121.54767, 32.67082278734756), (2013.333, 10.8, 252.5822, 1, 24.9746, 121.53046, 43.13080343695669), (2012.917, 17.7, 451.6419, 8, 24.96945, 121.5449, 43.706414465873344), (2012.75, 13.0, 492.2313, 5, 24.96515, 121.53737, 40.04344395146708), (2013.417, 13.2, 170.1289, 1, 24.97371, 121.52984, 43.154885726103224), (2013.167, 27.5, 394.0173, 7, 24.97305, 121.53994, 42.61395168795071), (2012.667, 1.5, 23.38284, 7, 24.96772, 121.54102, 47.45806202291437), (2013.0, 19.1, 461.1016, 5, 24.95425, 121.5399, 37.41039095410577), (2013.417, 21.2, 2185.128, 3, 24.96322, 121.51237, 31.57355560110711), (2012.75, 0.0, 208.3905, 6, 24.95618, 121.53844, 43.90429345221938), (2013.417, 2.6, 1554.25, 3, 24.97026, 121.51642, 41.05165134629093), (2013.25, 2.3, 184.3302, 6, 24.96581, 121.54086, 48.18643397486264), (2013.333, 4.7, 387.7721, 9, 24.98118, 121.53788, 53.60522208943688), (2012.917, 2.0, 1455.798, 1, 24.9512, 121.549, 31.750673254747802), (2013.417, 33.5, 1978.671, 2, 24.98674, 121.51844, 33.282354177051886), (2012.917, 15.0, 383.2805, 7, 24.96735, 121.54464, 43.27239726370843), (2013.167, 30.1, 718.2937, 3, 24.97509, 121.53644, 36.80139299380582), (2012.917, 5.9, 90.45606, 9, 24.97433, 121.5431, 50.77684475617011), (2013.0, 19.2, 461.1016, 5, 24.95425, 121.5399, 37.383473457156114), (2013.583, 16.6, 323.6912, 6, 24.97841, 121.5428, 48.22433609367947), (2013.333, 13.9, 289.3248, 5, 24.98203, 121.54348, 47.516938047604505), (2013.083, 37.7, 490.3446, 0, 24.97217, 121.53471, 31.70586296081741), (2012.833, 3.4, 56.47425, 7, 24.95744, 121.53711, 45.513072932895625), (2013.083, 17.5, 395.6747, 5, 24.95674, 121.534, 39.32596207650333), (2012.667, 12.6, 383.2805, 7, 24.96735, 121.54464, 42.56210452321794), (2013.5, 26.4, 335.5273, 6, 24.9796, 121.5414, 45.383904725503676), (2013.167, 18.2, 2179.59, 3, 24.96299, 121.51252, 30.995862184545807), (2012.75, 12.5, 1144.436, 4, 24.99176, 121.53456, 42.02613910521476), (2012.833, 34.9, 567.0349, 4, 24.97003, 121.5458, 34.058574277169264), (2013.333, 16.7, 4082.015, 0, 24.94155, 121.50381, 15.585198649474066), (2013.167, 33.2, 121.7262, 10, 24.98178, 121.54059, 47.3917433949041), (2013.083, 2.5, 156.2442, 4, 24.96696, 121.53992, 45.58687818860142), (2012.75, 38.0, 461.7848, 0, 24.97229, 121.53445, 29.989309000708687), (2013.5, 16.5, 2288.011, 3, 24.95885, 121.51359, 31.789705299497363), (2013.5, 38.3, 439.7105, 0, 24.97161, 121.53423, 33.93816213933428), (2013.417, 20.0, 1626.083, 3, 24.96622, 121.51668, 35.11805029715466), (2013.083, 16.2, 289.3248, 5, 24.98203, 121.54348, 45.54152295047995), (2013.5, 14.4, 169.9803, 1, 24.97369, 121.52979, 43.27985344052575), (2012.833, 10.3, 3079.89, 0, 24.9546, 121.56627, 20.52300715504866), (2013.417, 16.4, 289.3248, 5, 24.98203, 121.54348, 47.29972168006894), (2013.25, 30.3, 1264.73, 0, 24.94883, 121.52954, 25.851256454985766), (2013.583, 16.4, 1643.499, 2, 24.95394, 121.55174, 32.14917360082006), (2013.167, 21.3, 537.7971, 4, 24.97425, 121.53814, 40.82750657691534), (2013.583, 35.4, 318.5292, 9, 24.97071, 121.54069, 44.620638891202304), (2013.333, 8.3, 104.8101, 5, 24.96674, 121.54067, 46.58632705584182), (2013.25, 3.7, 577.9615, 6, 24.97201, 121.54722, 47.12363878184627), (2013.083, 15.6, 1756.411, 2, 24.9832, 121.51812, 36.574288461795284), (2013.25, 13.3, 250.631, 7, 24.96606, 121.54297, 45.9321329734474), (2012.75, 15.6, 752.7669, 2, 24.97795, 121.53451, 37.93969440267038), (2013.333, 7.1, 379.5575, 10, 24.98343, 121.53762, 54.5347359955769), (2013.25, 34.6, 272.6783, 5, 24.95562, 121.53872, 35.83483305829707), (2012.75, 13.5, 4197.349, 0, 24.93885, 121.50383, 12.130299347558925), (2012.917, 16.9, 964.7496, 4, 24.98872, 121.53411, 41.94460682819878), (2013.0, 12.9, 187.4823, 1, 24.97388, 121.52981, 40.928893808531285), (2013.417, 28.6, 197.1338, 6, 24.97631, 121.54436, 44.18814451032667), (2012.667, 12.4, 1712.632, 2, 24.96412, 121.5167, 31.184451113356644), (2013.083, 36.6, 488.8193, 8, 24.97015, 121.54494, 39.49618173647937), (2013.5, 4.1, 56.47425, 7, 24.95744, 121.53711, 48.94329265055686), (2013.417, 3.5, 757.3377, 3, 24.97538, 121.54971, 44.818664210017175), (2012.833, 15.9, 1497.713, 3, 24.97003, 121.51696, 34.50746610045222), (2013.0, 13.6, 4197.349, 0, 24.93885, 121.50383, 13.459694517891617), (2013.083, 32.0, 1156.777, 0, 24.94935, 121.53046, 25.09403625860027), (2013.333, 25.6, 4519.69, 0, 24.94826, 121.49587, 12.812084686111366), (2013.167, 39.8, 617.7134, 2, 24.97577, 121.53475, 33.842838994664284), (2012.75, 7.8, 104.8101, 5, 24.96674, 121.54067, 43.55799340048723), (2012.917, 30.0, 1013.341, 5, 24.99006, 121.5346, 39.49827098425052), (2013.583, 27.3, 337.6016, 6, 24.96431, 121.54063, 42.20272705085539), (2012.833, 5.1, 1867.233, 2, 24.98407, 121.51748, 37.72542992829227), (2012.833, 31.3, 600.8604, 5, 24.96871, 121.54651, 35.580212886615215), (2012.917, 31.5, 258.186, 9, 24.96867, 121.54331, 41.81795291474519), (2013.333, 1.7, 329.9747, 5, 24.98254, 121.54395, 50.70636042398304), (2013.333, 33.6, 270.8895, 0, 24.97281, 121.53265, 35.417299599154006), (2013.0, 13.0, 750.0704, 2, 24.97371, 121.54951, 38.6398340530581), (2012.667, 5.7, 90.45606, 9, 24.97433, 121.5431, 49.474367082787076), (2013.0, 33.5, 563.2854, 8, 24.98223, 121.53597, 42.46553265893896), (2013.5, 34.6, 3085.17, 0, 24.998, 121.5155, 28.670544620948515), (2012.667, 0.0, 185.4296, 0, 24.9711, 121.5317, 40.90410185169302), (2013.417, 13.2, 1712.632, 2, 24.96412, 121.5167, 35.03804913960642), (2013.583, 17.4, 6488.021, 1, 24.95719, 121.47353, 10.600866909113169), (2012.833, 4.6, 259.6607, 6, 24.97585, 121.54516, 47.0556100024469), (2012.75, 7.8, 104.8101, 5, 24.96674, 121.54067, 43.55799340048723), (2013.0, 13.2, 492.2313, 5, 24.96515, 121.53737, 41.345921624850114), (2012.833, 4.0, 2180.245, 3, 24.96324, 121.51241, 33.06171009816045), (2012.833, 18.4, 2674.961, 3, 24.96143, 121.50827, 26.53196986466571), (2013.5, 4.1, 2147.376, 3, 24.96299, 121.51284, 36.7429830158465), (2013.417, 12.2, 1360.139, 1, 24.95204, 121.54842, 32.3790086983971), (2013.25, 3.8, 383.8624, 5, 24.98085, 121.54391, 49.05801094677592), (2012.833, 10.3, 211.4473, 1, 24.97417, 121.52999, 40.66739521758922), (2013.417, 0.0, 338.9679, 9, 24.96853, 121.54413, 52.5684180591884), (2013.167, 1.1, 193.5845, 6, 24.96571, 121.54089, 47.99174619630298), (2013.5, 5.6, 2408.993, 0, 24.95505, 121.55964, 28.907072000633526), (2012.667, 32.9, 87.30222, 10, 24.983, 121.54022, 45.20656193986973), (2013.083, 41.4, 281.205, 8, 24.97345, 121.54093, 40.046007242099726), (2013.417, 17.1, 967.4, 4, 24.98872, 121.53408, 44.59155960463971), (2013.5, 32.3, 109.9455, 10, 24.98182, 121.54086, 49.498244552426634), (2013.417, 35.3, 614.1394, 7, 24.97913, 121.53666, 42.26239014416228), (2012.917, 17.3, 2261.432, 4, 24.96182, 121.51222, 30.266566266295847), (2012.75, 14.2, 1801.544, 1, 24.95153, 121.55254, 25.878339722278618), (2012.833, 15.0, 1828.319, 2, 24.96464, 121.51531, 30.986447296049853), (2013.417, 18.2, 350.8515, 1, 24.97544, 121.53119, 41.29028291446726), (2012.667, 20.2, 2185.128, 3, 24.96322, 121.51237, 27.773792568756654), (2012.75, 15.9, 289.3248, 5, 24.98203, 121.54348, 43.81566696850838), (2013.5, 4.1, 312.8963, 5, 24.95591, 121.53956, 45.24909788792276), (2013.0, 33.9, 157.6052, 7, 24.96628, 121.54196, 39.55379553025047), (2013.083, 0.0, 274.0144, 1, 24.9748, 121.53059, 44.61976936867865), (2013.25, 5.4, 390.5684, 5, 24.97937, 121.54245, 48.30745349057298), (2013.25, 21.7, 1157.988, 0, 24.96165, 121.55011, 30.945021759787608), (2013.417, 14.7, 1717.193, 2, 24.96447, 121.51649, 34.69626605548781), (2013.333, 3.9, 49.66105, 8, 24.95836, 121.53756, 49.343933339076926), (2013.333, 37.3, 587.8877, 8, 24.97077, 121.54634, 40.28794374120833), (2013.333, 0.0, 292.9978, 6, 24.97744, 121.54458, 51.21698132015018), (2013.333, 14.1, 289.3248, 5, 24.98203, 121.54348, 47.46310305370518), (2013.417, 8.0, 132.5469, 9, 24.98298, 121.53981, 54.74020108848575), (2013.0, 16.3, 3529.564, 0, 24.93207, 121.51597, 14.077269836599783), (2012.667, 29.1, 506.1144, 4, 24.97845, 121.53889, 37.07996974692798), (2012.75, 16.1, 4066.587, 0, 24.94297, 121.50342, 12.984584350292899), (2013.0, 18.3, 82.88643, 10, 24.983, 121.54026, 50.96313070725684), (2012.833, 0.0, 185.4296, 0, 24.9711, 121.5317, 41.804693462769414), (2013.25, 16.2, 2103.555, 3, 24.96042, 121.51462, 31.71724909806727), (2013.5, 10.4, 2251.938, 4, 24.95957, 121.51353, 34.79456837358615), (2013.25, 40.9, 122.3619, 8, 24.96756, 121.5423, 40.49802032688147), (2013.5, 32.8, 377.8302, 9, 24.97151, 121.5435, 44.68447737723918), (2013.583, 6.2, 1939.749, 1, 24.95155, 121.55387, 31.855995255881552), (2013.083, 42.7, 443.802, 6, 24.97927, 121.53874, 38.21774371610951), (2013.0, 16.9, 967.4, 4, 24.98872, 121.53408, 42.38306506951252), (2013.5, 32.6, 4136.271, 1, 24.95544, 121.4963, 16.282803978749975), (2012.917, 21.2, 512.5487, 4, 24.974, 121.53842, 39.555432852781166), (2012.667, 37.1, 918.6357, 1, 24.97198, 121.55063, 28.094133887840144), (2013.417, 13.1, 1164.838, 4, 24.99156, 121.53406, 45.35530343834229), (2013.417, 14.7, 1717.193, 2, 24.96447, 121.51649, 34.69626605548781), (2012.917, 12.7, 170.1289, 1, 24.97371, 121.52984, 40.57684787628682), (2013.25, 26.8, 482.7581, 5, 24.97433, 121.53863, 41.09306289934416), (2013.083, 7.6, 2175.03, 3, 24.96305, 121.51254, 33.428006213497774), (2012.833, 12.7, 187.4823, 1, 24.97388, 121.52981, 40.076711940686444), (2012.667, 30.9, 161.942, 9, 24.98353, 121.53966, 44.49302453743686), (2013.333, 16.4, 289.3248, 5, 24.98203, 121.54348, 46.84400062386298), (2012.667, 23.0, 130.9945, 6, 24.95663, 121.53765, 37.75604017703316), (2013.167, 1.9, 372.1386, 7, 24.97293, 121.54026, 49.5738015537394), (2013.0, 5.2, 2408.993, 0, 24.95505, 121.55964, 26.302116653867465), (2013.417, 18.5, 2175.744, 3, 24.9633, 121.51243, 32.361347369666255), (2013.0, 13.7, 4082.015, 0, 24.94155, 121.50381, 14.586115085143348), (2012.667, 5.6, 90.45606, 9, 24.97433, 121.5431, 49.50128457973674), (2013.25, 18.8, 390.9696, 7, 24.97923, 121.53986, 46.7976248765039), (2013.0, 8.1, 104.8101, 5, 24.96674, 121.54067, 44.83355357692059), (2013.5, 6.5, 90.45606, 9, 24.97433, 121.5431, 53.77826091457504);'"
      ]
     },
     "execution_count": 34,
     "metadata": {},
     "output_type": "execute_result"
    }
   ],
   "source": [
    "insert_query "
   ]
  },
  {
   "cell_type": "code",
   "execution_count": 35,
   "id": "237ffe63",
   "metadata": {},
   "outputs": [
    {
     "data": {
      "text/plain": [
       "414"
      ]
     },
     "execution_count": 35,
     "metadata": {},
     "output_type": "execute_result"
    }
   ],
   "source": [
    "cursor.execute(insert_query)"
   ]
  },
  {
   "cell_type": "code",
   "execution_count": 36,
   "id": "3649bd05",
   "metadata": {},
   "outputs": [],
   "source": [
    "conn.commit()"
   ]
  },
  {
   "cell_type": "code",
   "execution_count": 37,
   "id": "5c0f39db",
   "metadata": {},
   "outputs": [],
   "source": [
    "conn.close()"
   ]
  },
  {
   "cell_type": "code",
   "execution_count": null,
   "id": "643e249a",
   "metadata": {},
   "outputs": [],
   "source": []
  }
 ],
 "metadata": {
  "kernelspec": {
   "display_name": "Python 3 (ipykernel)",
   "language": "python",
   "name": "python3"
  },
  "language_info": {
   "codemirror_mode": {
    "name": "ipython",
    "version": 3
   },
   "file_extension": ".py",
   "mimetype": "text/x-python",
   "name": "python",
   "nbconvert_exporter": "python",
   "pygments_lexer": "ipython3",
   "version": "3.9.12"
  }
 },
 "nbformat": 4,
 "nbformat_minor": 5
}
